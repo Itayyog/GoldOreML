{
 "cells": [
  {
   "cell_type": "markdown",
   "metadata": {},
   "source": [
    "# Gold Purification Prediction Model For Zyfra"
   ]
  },
  {
   "cell_type": "markdown",
   "metadata": {},
   "source": [
    "This ducument will be a dissection of the gold purification process, for the end goal of predicting gold output from a sample of ore."
   ]
  },
  {
   "cell_type": "markdown",
   "metadata": {},
   "source": [
    "## Data Treatment"
   ]
  },
  {
   "cell_type": "markdown",
   "metadata": {},
   "source": [
    "### Importing Libraries"
   ]
  },
  {
   "cell_type": "code",
   "execution_count": 34,
   "metadata": {},
   "outputs": [],
   "source": [
    "import pandas as pd\n",
    "import numpy as np\n",
    "from matplotlib import pyplot as plt\n",
    "from sklearn.model_selection import cross_val_score\n",
    "from sklearn.linear_model import LinearRegression\n",
    "from sklearn.tree import DecisionTreeRegressor\n",
    "from sklearn.ensemble import RandomForestRegressor\n",
    "from sklearn.metrics import mean_absolute_error\n",
    "from sklearn.metrics import make_scorer\n",
    "from sklearn.model_selection import GridSearchCV\n",
    "from sklearn.dummy import DummyRegressor"
   ]
  },
  {
   "cell_type": "markdown",
   "metadata": {},
   "source": [
    "### Loading Data"
   ]
  },
  {
   "cell_type": "code",
   "execution_count": 3,
   "metadata": {},
   "outputs": [],
   "source": [
    "gold_train = pd.read_csv('/datasets/gold_recovery_train.csv')\n",
    "gold_test = pd.read_csv('/datasets/gold_recovery_test.csv')\n",
    "gold_full = pd.read_csv('/datasets/gold_recovery_full.csv')"
   ]
  },
  {
   "cell_type": "markdown",
   "metadata": {},
   "source": [
    "### Pre- Processing"
   ]
  },
  {
   "cell_type": "code",
   "execution_count": 4,
   "metadata": {},
   "outputs": [
    {
     "name": "stdout",
     "output_type": "stream",
     "text": [
      "<class 'pandas.core.frame.DataFrame'>\n",
      "RangeIndex: 16860 entries, 0 to 16859\n",
      "Data columns (total 87 columns):\n",
      " #   Column                                              Non-Null Count  Dtype  \n",
      "---  ------                                              --------------  -----  \n",
      " 0   date                                                16860 non-null  object \n",
      " 1   final.output.concentrate_ag                         16788 non-null  float64\n",
      " 2   final.output.concentrate_pb                         16788 non-null  float64\n",
      " 3   final.output.concentrate_sol                        16490 non-null  float64\n",
      " 4   final.output.concentrate_au                         16789 non-null  float64\n",
      " 5   final.output.recovery                               15339 non-null  float64\n",
      " 6   final.output.tail_ag                                16794 non-null  float64\n",
      " 7   final.output.tail_pb                                16677 non-null  float64\n",
      " 8   final.output.tail_sol                               16715 non-null  float64\n",
      " 9   final.output.tail_au                                16794 non-null  float64\n",
      " 10  primary_cleaner.input.sulfate                       15553 non-null  float64\n",
      " 11  primary_cleaner.input.depressant                    15598 non-null  float64\n",
      " 12  primary_cleaner.input.feed_size                     16860 non-null  float64\n",
      " 13  primary_cleaner.input.xanthate                      15875 non-null  float64\n",
      " 14  primary_cleaner.output.concentrate_ag               16778 non-null  float64\n",
      " 15  primary_cleaner.output.concentrate_pb               16502 non-null  float64\n",
      " 16  primary_cleaner.output.concentrate_sol              16224 non-null  float64\n",
      " 17  primary_cleaner.output.concentrate_au               16778 non-null  float64\n",
      " 18  primary_cleaner.output.tail_ag                      16777 non-null  float64\n",
      " 19  primary_cleaner.output.tail_pb                      16761 non-null  float64\n",
      " 20  primary_cleaner.output.tail_sol                     16579 non-null  float64\n",
      " 21  primary_cleaner.output.tail_au                      16777 non-null  float64\n",
      " 22  primary_cleaner.state.floatbank8_a_air              16820 non-null  float64\n",
      " 23  primary_cleaner.state.floatbank8_a_level            16827 non-null  float64\n",
      " 24  primary_cleaner.state.floatbank8_b_air              16820 non-null  float64\n",
      " 25  primary_cleaner.state.floatbank8_b_level            16833 non-null  float64\n",
      " 26  primary_cleaner.state.floatbank8_c_air              16822 non-null  float64\n",
      " 27  primary_cleaner.state.floatbank8_c_level            16833 non-null  float64\n",
      " 28  primary_cleaner.state.floatbank8_d_air              16821 non-null  float64\n",
      " 29  primary_cleaner.state.floatbank8_d_level            16833 non-null  float64\n",
      " 30  rougher.calculation.sulfate_to_au_concentrate       16833 non-null  float64\n",
      " 31  rougher.calculation.floatbank10_sulfate_to_au_feed  16833 non-null  float64\n",
      " 32  rougher.calculation.floatbank11_sulfate_to_au_feed  16833 non-null  float64\n",
      " 33  rougher.calculation.au_pb_ratio                     15618 non-null  float64\n",
      " 34  rougher.input.feed_ag                               16778 non-null  float64\n",
      " 35  rougher.input.feed_pb                               16632 non-null  float64\n",
      " 36  rougher.input.feed_rate                             16347 non-null  float64\n",
      " 37  rougher.input.feed_size                             16443 non-null  float64\n",
      " 38  rougher.input.feed_sol                              16568 non-null  float64\n",
      " 39  rougher.input.feed_au                               16777 non-null  float64\n",
      " 40  rougher.input.floatbank10_sulfate                   15816 non-null  float64\n",
      " 41  rougher.input.floatbank10_xanthate                  16514 non-null  float64\n",
      " 42  rougher.input.floatbank11_sulfate                   16237 non-null  float64\n",
      " 43  rougher.input.floatbank11_xanthate                  14956 non-null  float64\n",
      " 44  rougher.output.concentrate_ag                       16778 non-null  float64\n",
      " 45  rougher.output.concentrate_pb                       16778 non-null  float64\n",
      " 46  rougher.output.concentrate_sol                      16698 non-null  float64\n",
      " 47  rougher.output.concentrate_au                       16778 non-null  float64\n",
      " 48  rougher.output.recovery                             14287 non-null  float64\n",
      " 49  rougher.output.tail_ag                              14610 non-null  float64\n",
      " 50  rougher.output.tail_pb                              16778 non-null  float64\n",
      " 51  rougher.output.tail_sol                             14611 non-null  float64\n",
      " 52  rougher.output.tail_au                              14611 non-null  float64\n",
      " 53  rougher.state.floatbank10_a_air                     16807 non-null  float64\n",
      " 54  rougher.state.floatbank10_a_level                   16807 non-null  float64\n",
      " 55  rougher.state.floatbank10_b_air                     16807 non-null  float64\n",
      " 56  rougher.state.floatbank10_b_level                   16807 non-null  float64\n",
      " 57  rougher.state.floatbank10_c_air                     16807 non-null  float64\n",
      " 58  rougher.state.floatbank10_c_level                   16814 non-null  float64\n",
      " 59  rougher.state.floatbank10_d_air                     16802 non-null  float64\n",
      " 60  rougher.state.floatbank10_d_level                   16809 non-null  float64\n",
      " 61  rougher.state.floatbank10_e_air                     16257 non-null  float64\n",
      " 62  rougher.state.floatbank10_e_level                   16809 non-null  float64\n",
      " 63  rougher.state.floatbank10_f_air                     16802 non-null  float64\n",
      " 64  rougher.state.floatbank10_f_level                   16802 non-null  float64\n",
      " 65  secondary_cleaner.output.tail_ag                    16776 non-null  float64\n",
      " 66  secondary_cleaner.output.tail_pb                    16764 non-null  float64\n",
      " 67  secondary_cleaner.output.tail_sol                   14874 non-null  float64\n",
      " 68  secondary_cleaner.output.tail_au                    16778 non-null  float64\n",
      " 69  secondary_cleaner.state.floatbank2_a_air            16497 non-null  float64\n",
      " 70  secondary_cleaner.state.floatbank2_a_level          16751 non-null  float64\n",
      " 71  secondary_cleaner.state.floatbank2_b_air            16705 non-null  float64\n",
      " 72  secondary_cleaner.state.floatbank2_b_level          16748 non-null  float64\n",
      " 73  secondary_cleaner.state.floatbank3_a_air            16763 non-null  float64\n",
      " 74  secondary_cleaner.state.floatbank3_a_level          16747 non-null  float64\n",
      " 75  secondary_cleaner.state.floatbank3_b_air            16752 non-null  float64\n",
      " 76  secondary_cleaner.state.floatbank3_b_level          16750 non-null  float64\n",
      " 77  secondary_cleaner.state.floatbank4_a_air            16731 non-null  float64\n",
      " 78  secondary_cleaner.state.floatbank4_a_level          16747 non-null  float64\n",
      " 79  secondary_cleaner.state.floatbank4_b_air            16768 non-null  float64\n",
      " 80  secondary_cleaner.state.floatbank4_b_level          16767 non-null  float64\n",
      " 81  secondary_cleaner.state.floatbank5_a_air            16775 non-null  float64\n",
      " 82  secondary_cleaner.state.floatbank5_a_level          16775 non-null  float64\n",
      " 83  secondary_cleaner.state.floatbank5_b_air            16775 non-null  float64\n",
      " 84  secondary_cleaner.state.floatbank5_b_level          16776 non-null  float64\n",
      " 85  secondary_cleaner.state.floatbank6_a_air            16757 non-null  float64\n",
      " 86  secondary_cleaner.state.floatbank6_a_level          16775 non-null  float64\n",
      "dtypes: float64(86), object(1)\n",
      "memory usage: 11.2+ MB\n"
     ]
    }
   ],
   "source": [
    "gold_train.info()"
   ]
  },
  {
   "cell_type": "markdown",
   "metadata": {},
   "source": [
    "Before we begin pre-processing, we want to see whether recovery calcuations are correct in the dataset"
   ]
  },
  {
   "cell_type": "code",
   "execution_count": 5,
   "metadata": {
    "scrolled": true
   },
   "outputs": [
    {
     "data": {
      "text/plain": [
       "14577"
      ]
     },
     "execution_count": 5,
     "metadata": {},
     "output_type": "execute_result"
    }
   ],
   "source": [
    "c_rough = gold_train['rougher.output.concentrate_au']\n",
    "f_rough = gold_train['rougher.input.feed_au']\n",
    "t_rough = gold_train['rougher.output.tail_au']\n",
    "recovery_rough = ((c_rough*(f_rough-t_rough)) / (f_rough*(c_rough-t_rough))) *100\n",
    "recovery_rough.notna().sum()"
   ]
  },
  {
   "cell_type": "code",
   "execution_count": 6,
   "metadata": {
    "scrolled": true
   },
   "outputs": [
    {
     "data": {
      "text/plain": [
       "14287"
      ]
     },
     "execution_count": 6,
     "metadata": {},
     "output_type": "execute_result"
    }
   ],
   "source": [
    "gold_train['rougher.output.recovery'].notna().sum()"
   ]
  },
  {
   "cell_type": "markdown",
   "metadata": {},
   "source": [
    "Our calculation has created less NaN values than exist in the original dataset. Fitting ours to existing one to check MAE-"
   ]
  },
  {
   "cell_type": "code",
   "execution_count": 7,
   "metadata": {
    "scrolled": false
   },
   "outputs": [
    {
     "data": {
      "text/plain": [
       "9.303415616264301e-15"
      ]
     },
     "execution_count": 7,
     "metadata": {},
     "output_type": "execute_result"
    }
   ],
   "source": [
    "recovery_calc_nona = recovery_rough.dropna()\n",
    "recovery_value_nona = gold_train['rougher.output.recovery'].dropna()\n",
    "recovery_calc_nona = recovery_calc_nona.reindex_like(recovery_value_nona)\n",
    "score = mean_absolute_error(recovery_value_nona, recovery_calc_nona)\n",
    "score"
   ]
  },
  {
   "cell_type": "markdown",
   "metadata": {},
   "source": [
    "We see MAE is extemely small- the existing calculation and ours are very similar. Lets see if all new recovery values are between sane limits (0-100)"
   ]
  },
  {
   "cell_type": "code",
   "execution_count": 8,
   "metadata": {
    "scrolled": true
   },
   "outputs": [
    {
     "data": {
      "text/plain": [
       "53         188.742102\n",
       "835        113.796771\n",
       "837        106.088867\n",
       "2058       630.489449\n",
       "2072       108.559127\n",
       "             ...     \n",
       "16607   -68360.243330\n",
       "16654       -0.654679\n",
       "16699       -0.482567\n",
       "16700       -0.584325\n",
       "16701       -1.498298\n",
       "Length: 290, dtype: float64"
      ]
     },
     "execution_count": 8,
     "metadata": {},
     "output_type": "execute_result"
    }
   ],
   "source": [
    "problem_values = recovery_rough[recovery_rough > 100 ].append(recovery_rough[recovery_rough < 0])\n",
    "problem_values"
   ]
  },
  {
   "cell_type": "markdown",
   "metadata": {},
   "source": [
    "We see the exact number of NaNs the original data had is irrelevant values- probably the reason they were dropped from the original DataSet."
   ]
  },
  {
   "cell_type": "markdown",
   "metadata": {},
   "source": [
    "Now lets compare our training set to the test set. The model we will train can't use features that are not available in the test set, and so there is not much reason to process them."
   ]
  },
  {
   "cell_type": "code",
   "execution_count": 9,
   "metadata": {},
   "outputs": [
    {
     "data": {
      "text/plain": [
       "0                           final.output.concentrate_ag\n",
       "1                           final.output.concentrate_pb\n",
       "2                          final.output.concentrate_sol\n",
       "3                           final.output.concentrate_au\n",
       "4                                 final.output.recovery\n",
       "5                                  final.output.tail_ag\n",
       "6                                  final.output.tail_pb\n",
       "7                                 final.output.tail_sol\n",
       "8                                  final.output.tail_au\n",
       "9                 primary_cleaner.output.concentrate_ag\n",
       "10                primary_cleaner.output.concentrate_pb\n",
       "11               primary_cleaner.output.concentrate_sol\n",
       "12                primary_cleaner.output.concentrate_au\n",
       "13                       primary_cleaner.output.tail_ag\n",
       "14                       primary_cleaner.output.tail_pb\n",
       "15                      primary_cleaner.output.tail_sol\n",
       "16                       primary_cleaner.output.tail_au\n",
       "17        rougher.calculation.sulfate_to_au_concentrate\n",
       "18    rougher.calculation.floatbank10_sulfate_to_au_...\n",
       "19    rougher.calculation.floatbank11_sulfate_to_au_...\n",
       "20                      rougher.calculation.au_pb_ratio\n",
       "21                        rougher.output.concentrate_ag\n",
       "22                        rougher.output.concentrate_pb\n",
       "23                       rougher.output.concentrate_sol\n",
       "24                        rougher.output.concentrate_au\n",
       "25                              rougher.output.recovery\n",
       "26                               rougher.output.tail_ag\n",
       "27                               rougher.output.tail_pb\n",
       "28                              rougher.output.tail_sol\n",
       "29                               rougher.output.tail_au\n",
       "30                     secondary_cleaner.output.tail_ag\n",
       "31                     secondary_cleaner.output.tail_pb\n",
       "32                    secondary_cleaner.output.tail_sol\n",
       "33                     secondary_cleaner.output.tail_au\n",
       "dtype: object"
      ]
     },
     "execution_count": 9,
     "metadata": {},
     "output_type": "execute_result"
    }
   ],
   "source": [
    "train_columns = pd.Series(gold_train.columns)\n",
    "test_columns = pd.Series(gold_test.columns)\n",
    "missing_columns = train_columns.append(test_columns).drop_duplicates(keep = False).reset_index(drop = True)\n",
    "missing_columns"
   ]
  },
  {
   "cell_type": "markdown",
   "metadata": {},
   "source": [
    "We see all outputs ( and calculations made from output values) are cut out of the test set. That is probably because the purpose of the model we will train will be to predict the total gold output from a set of ore- much less productive to do if purifying has already begun.\n",
    "\n",
    "This is also to prevent target bleed- final concentrations of other elements are only acheived once we already know the concentration of gold."
   ]
  },
  {
   "cell_type": "markdown",
   "metadata": {},
   "source": [
    "Observations that are missing either of our targets need to be dropped. It makes no sense for us to train the model on values that are probably not correct."
   ]
  },
  {
   "cell_type": "code",
   "execution_count": 10,
   "metadata": {},
   "outputs": [],
   "source": [
    "gold_train.dropna(subset=['rougher.output.recovery', 'final.output.recovery'], inplace = True)"
   ]
  },
  {
   "cell_type": "markdown",
   "metadata": {},
   "source": [
    "Our test set does not have its target columns. We need to add them from our full dataset, and then drop any observations that have a missing value in any of those columns."
   ]
  },
  {
   "cell_type": "code",
   "execution_count": 11,
   "metadata": {},
   "outputs": [],
   "source": [
    "gold_test = gold_test.merge(gold_full[['date', 'rougher.output.recovery', 'final.output.recovery']], how = 'inner', on='date')\n",
    "gold_test.dropna(subset=['rougher.output.recovery', 'final.output.recovery'], inplace = True)"
   ]
  },
  {
   "cell_type": "markdown",
   "metadata": {},
   "source": [
    "Now to fill missing values we do not have a calculation for- seeing as we have few missing values in each column, but many columns, it makes less sense to drop rows if they have a NaN. It will be a waste of much good data.\n",
    "\n",
    "Some of the columns will not even be used as features, so this action will not matter much for the final model."
   ]
  },
  {
   "cell_type": "code",
   "execution_count": 12,
   "metadata": {},
   "outputs": [],
   "source": [
    "gold_train.fillna(method = 'ffill', inplace = True)\n",
    "gold_test.fillna(method = 'ffill', inplace = True)"
   ]
  },
  {
   "cell_type": "markdown",
   "metadata": {},
   "source": [
    "## Data Analysis"
   ]
  },
  {
   "cell_type": "markdown",
   "metadata": {},
   "source": [
    "Lets track the concentrations of the different metals along the phases of purification."
   ]
  },
  {
   "cell_type": "code",
   "execution_count": 13,
   "metadata": {},
   "outputs": [],
   "source": [
    "metals_concentrations = pd.DataFrame(index = ['Au', 'Ag', 'Pb'], columns = ['raw_feed', 'post_flot', '1st_clean', 'final'])\n",
    "\n",
    "metals_concentrations.iloc[0,0] = gold_train['rougher.input.feed_au'].mean()\n",
    "metals_concentrations.iloc[1,0] = gold_train['rougher.input.feed_ag'].mean()\n",
    "metals_concentrations.iloc[2,0] = gold_train['rougher.input.feed_pb'].mean()\n",
    "\n",
    "metals_concentrations.iloc[0,1] = gold_train['rougher.output.concentrate_au'].mean()\n",
    "metals_concentrations.iloc[1,1] = gold_train['rougher.output.concentrate_ag'].mean()\n",
    "metals_concentrations.iloc[2,1] = gold_train['rougher.output.concentrate_pb'].mean()\n",
    "\n",
    "metals_concentrations.iloc[0,2] = gold_train['primary_cleaner.output.concentrate_au'].mean()\n",
    "metals_concentrations.iloc[1,2] = gold_train['primary_cleaner.output.concentrate_ag'].mean()\n",
    "metals_concentrations.iloc[2,2] = gold_train['primary_cleaner.output.concentrate_pb'].mean()\n",
    "\n",
    "metals_concentrations.iloc[0,3] = gold_train['final.output.concentrate_au'].mean()\n",
    "metals_concentrations.iloc[1,3] = gold_train['final.output.concentrate_ag'].mean()\n",
    "metals_concentrations.iloc[2,3] = gold_train['final.output.concentrate_pb'].mean()"
   ]
  },
  {
   "cell_type": "code",
   "execution_count": 14,
   "metadata": {},
   "outputs": [
    {
     "data": {
      "text/plain": [
       "<AxesSubplot:>"
      ]
     },
     "execution_count": 14,
     "metadata": {},
     "output_type": "execute_result"
    },
    {
     "data": {
      "image/png": "[encoded data removed]",
      "text/plain": [
       "<Figure size 432x288 with 1 Axes>"
      ]
     },
     "metadata": {
      "needs_background": "light"
     },
     "output_type": "display_data"
    }
   ],
   "source": [
    "metals_concentrations.T.plot(kind = 'line')"
   ]
  },
  {
   "cell_type": "markdown",
   "metadata": {},
   "source": [
    "After flotation we see all concentrations rising. This makes sense, as these are all metals and are pretty dense- if lighter materials have been removed, these will remain.\n",
    "\n",
    "First cleaning process probably seperates by mass- lead and silver are heavier than gold. However, lead is still heavier than silver, so its concentration still increases, while more silver is removed.\n",
    "\n",
    "Final cleaning does a better job- almost same concentration of lead, but gold has increased a lot."
   ]
  },
  {
   "cell_type": "markdown",
   "metadata": {},
   "source": [
    "Taking a look at a comparison for particle size distribution between our training and validation sets:"
   ]
  },
  {
   "cell_type": "code",
   "execution_count": 15,
   "metadata": {},
   "outputs": [
    {
     "data": {
      "image/png": "[encoded data removed]",
      "text/plain": [
       "<Figure size 432x288 with 1 Axes>"
      ]
     },
     "metadata": {
      "needs_background": "light"
     },
     "output_type": "display_data"
    },
    {
     "data": {
      "image/png": "[encoded data removed]",
      "text/plain": [
       "<Figure size 432x288 with 1 Axes>"
      ]
     },
     "metadata": {
      "needs_background": "light"
     },
     "output_type": "display_data"
    }
   ],
   "source": [
    "gold_train['primary_cleaner.input.feed_size'].hist(bins = 50, density = True, alpha = 0.6)\n",
    "gold_test['primary_cleaner.input.feed_size'].hist(bins = 50, density = True, alpha = 0.6)\n",
    "plt.show()\n",
    "\n",
    "gold_train['rougher.input.feed_size'].hist(bins = 50, density = True, alpha = 0.6)\n",
    "gold_test['rougher.input.feed_size'].hist(bins = 50, density = True, alpha = 0.6)\n",
    "plt.show()"
   ]
  },
  {
   "cell_type": "markdown",
   "metadata": {},
   "source": [
    "Distributions are similar in both sets.\n",
    "There seems to be a slight skew in the final particle size for the test set."
   ]
  },
  {
   "cell_type": "markdown",
   "metadata": {},
   "source": [
    "Checking to see if there are any anomalies for the total concentration of metals-"
   ]
  },
  {
   "cell_type": "code",
   "execution_count": 16,
   "metadata": {},
   "outputs": [],
   "source": [
    "total_metal = pd.DataFrame()"
   ]
  },
  {
   "cell_type": "code",
   "execution_count": 17,
   "metadata": {},
   "outputs": [],
   "source": [
    "total_metal['raw_feed'] = gold_train['rougher.input.feed_au'] + gold_train['rougher.input.feed_ag'] + gold_train['rougher.input.feed_pb']\n",
    "total_metal['post_flot'] = gold_train['rougher.output.concentrate_au'] + gold_train['rougher.output.concentrate_ag'] + gold_train['rougher.output.concentrate_pb']\n",
    "total_metal['1st_clean'] = gold_train['primary_cleaner.output.concentrate_au'] + gold_train['primary_cleaner.output.concentrate_ag'] + gold_train['primary_cleaner.output.concentrate_pb']\n",
    "total_metal['final'] = gold_train['final.output.concentrate_au'] + gold_train['final.output.concentrate_ag'] + gold_train['final.output.concentrate_pb']"
   ]
  },
  {
   "cell_type": "code",
   "execution_count": 18,
   "metadata": {},
   "outputs": [
    {
     "data": {
      "image/png": "[encoded data removed]",
      "text/plain": [
       "<Figure size 864x432 with 1 Axes>"
      ]
     },
     "metadata": {
      "needs_background": "light"
     },
     "output_type": "display_data"
    }
   ],
   "source": [
    "total_metal.plot(kind = 'kde', figsize = (12,6))\n",
    "plt.show()"
   ]
  },
  {
   "cell_type": "markdown",
   "metadata": {},
   "source": [
    "We see there is a small bump in distribution around the 0 mark. This may or may not be worth removing- depending on whether these recordings are errors.\n",
    "\n",
    "If sometime a sample with little-to-no metal content makes it into the refining process, it makes a lot of sense to leave those in so the model could predict them. However, since it seems the values are actual 0's, it makes more sense that it is some kind of error. Rows with 0 total metals should be removed."
   ]
  },
  {
   "cell_type": "code",
   "execution_count": 19,
   "metadata": {
    "scrolled": true
   },
   "outputs": [],
   "source": [
    "gold_train.drop(\n",
    "    gold_train.query(\n",
    "       ' (`rougher.input.feed_au` + `rougher.input.feed_ag` + `rougher.input.feed_pb`) == 0 or \\\n",
    "        (`rougher.output.concentrate_au` + `rougher.output.concentrate_ag` + `rougher.output.concentrate_pb`) == 0 or \\\n",
    "        (`primary_cleaner.output.concentrate_au` + `primary_cleaner.output.concentrate_ag` + `primary_cleaner.output.concentrate_pb`) == 0 or \\\n",
    "        (`final.output.concentrate_au` + `final.output.concentrate_ag` + `final.output.concentrate_pb`) == 0' \n",
    "    ).index, inplace =True\n",
    ")"
   ]
  },
  {
   "cell_type": "code",
   "execution_count": 20,
   "metadata": {
    "scrolled": false
   },
   "outputs": [],
   "source": [
    "# Test set has no outputs\n",
    "gold_test.drop(\n",
    "    gold_train.query(\n",
    "       ' (`rougher.input.feed_au` + `rougher.input.feed_ag` + `rougher.input.feed_pb`) == 0' \n",
    "    ).index, inplace =True\n",
    ")"
   ]
  },
  {
   "cell_type": "markdown",
   "metadata": {},
   "source": [
    "## Model Training"
   ]
  },
  {
   "cell_type": "markdown",
   "metadata": {},
   "source": [
    "### Function For sMAPE"
   ]
  },
  {
   "cell_type": "markdown",
   "metadata": {},
   "source": [
    "Defining a function for calculation of sMAPE-"
   ]
  },
  {
   "cell_type": "code",
   "execution_count": 21,
   "metadata": {},
   "outputs": [],
   "source": [
    "def smape(y_true, y_pred):\n",
    "    smape = np.mean(abs(y_pred - y_true) / ((abs(y_true) + abs(y_pred)) / 2)) * 100 \n",
    "    return smape"
   ]
  },
  {
   "cell_type": "code",
   "execution_count": 22,
   "metadata": {},
   "outputs": [],
   "source": [
    "def smape_final(y_true,y_pred):\n",
    "    smape_out_rougher = smape(y_true[:,0],y_pred[:,0])\n",
    "    smape_out_final =smape(y_true[:,1],y_pred[:,1])\n",
    "    return 0.25*smape_out_rougher + 0.75*smape_out_final"
   ]
  },
  {
   "cell_type": "markdown",
   "metadata": {},
   "source": [
    "### Cross-Validation"
   ]
  },
  {
   "cell_type": "code",
   "execution_count": 23,
   "metadata": {},
   "outputs": [],
   "source": [
    "features_train = gold_train.drop(missing_columns, axis = 1)\n",
    "features_train = features_train.drop(['date'], axis = 1)\n",
    "targets_train = gold_train[['rougher.output.recovery', 'final.output.recovery']].to_numpy()\n",
    "\n",
    "features_test = gold_test.drop(['date', 'rougher.output.recovery', 'final.output.recovery'], axis = 1)\n",
    "targets_test = gold_test[['rougher.output.recovery', 'final.output.recovery']].to_numpy()"
   ]
  },
  {
   "cell_type": "markdown",
   "metadata": {},
   "source": [
    "Now to cross validate different models-"
   ]
  },
  {
   "cell_type": "code",
   "execution_count": 24,
   "metadata": {},
   "outputs": [],
   "source": [
    "smape_score = make_scorer(smape_final, greater_is_better=False)"
   ]
  },
  {
   "cell_type": "code",
   "execution_count": 25,
   "metadata": {},
   "outputs": [
    {
     "data": {
      "text/plain": [
       "array([-10.02932339, -10.02932339, -10.13900769, -10.13900769,\n",
       "       -10.02932339, -10.02932339, -10.13900769, -10.13900769])"
      ]
     },
     "execution_count": 25,
     "metadata": {},
     "output_type": "execute_result"
    }
   ],
   "source": [
    "lin_params = {'fit_intercept':[True,False],\n",
    "              'normalize':[True,False],\n",
    "              'copy_X':[True, False]\n",
    "             }\n",
    "linreg_model = GridSearchCV(LinearRegression(), param_grid=lin_params, cv=5, scoring=smape_score, verbose=0, refit=True)\n",
    "linreg_model.fit(features_train, targets_train)\n",
    "linreg_model.cv_results_['mean_test_score']"
   ]
  },
  {
   "cell_type": "code",
   "execution_count": 26,
   "metadata": {},
   "outputs": [
    {
     "data": {
      "text/plain": [
       "array([-11.4539995 , -11.00666002, -11.00337918, -10.96262562,\n",
       "       -11.41290975, -11.00895686, -10.96619834, -10.96655409,\n",
       "       -10.99749119, -10.96468944, -10.95932317, -10.96504519,\n",
       "       -11.01007108, -10.96702069, -11.00190787, -10.96623893,\n",
       "       -10.96899962, -10.97323436, -10.96751234, -10.96429376,\n",
       "       -10.93899357, -10.94322396, -10.94064865, -10.94078278,\n",
       "       -10.92537166, -10.92357811, -10.92035517, -10.92214873,\n",
       "       -10.93474406, -10.93308463, -10.93552581, -10.93308898,\n",
       "       -10.93015081, -10.9293647 , -10.93180588, -10.93194001,\n",
       "       -10.94842877, -10.94778115, -10.95022233, -10.94944058])"
      ]
     },
     "execution_count": 26,
     "metadata": {},
     "output_type": "execute_result"
    }
   ],
   "source": [
    "dectre_params = {'max_depth': range(5, 10, 5),\n",
    "                       'min_impurity_decrease' : np.arange(.01, .20, .02),\n",
    "                       'min_samples_split' : range(2, 10, 2)}\n",
    "dectre_model = GridSearchCV(DecisionTreeRegressor(random_state = 1337), param_grid=dectre_params, cv=5, scoring=smape_score, verbose=0, refit=True)\n",
    "dectre_model.fit(features_train, targets_train)\n",
    "dectre_model.cv_results_['mean_test_score']"
   ]
  },
  {
   "cell_type": "code",
   "execution_count": 29,
   "metadata": {},
   "outputs": [
    {
     "data": {
      "text/plain": [
       "array([ -9.66415638,  -9.84566212,  -9.73685941,  -9.8011633 ,\n",
       "        -9.52877848,  -9.74905659,  -9.8276909 ,  -9.89165086,\n",
       "        -9.78407732,  -9.71882016,  -9.62047095,  -9.59491317,\n",
       "        -9.91554698,  -9.81311823,  -9.95894718,  -9.4949335 ,\n",
       "        -9.75448044,  -9.55968446,  -9.99618055,  -9.92660309,\n",
       "        -9.80347696,  -9.91739898,  -9.50287994,  -9.56909105,\n",
       "       -10.24723068,  -9.69914644,  -9.91462348,  -9.8672153 ,\n",
       "        -9.43720487,  -9.63042778])"
      ]
     },
     "execution_count": 29,
     "metadata": {},
     "output_type": "execute_result"
    }
   ],
   "source": [
    "randfor_params =  {'n_estimators' : range(10, 100, 30),\n",
    "                        'max_depth' : range(10, 60, 10),\n",
    "                        'min_impurity_decrease' : np.arange(.05, .25, .1)}\n",
    "randfor_model = GridSearchCV(RandomForestRegressor(random_state = 1337), param_grid=randfor_params, cv=2, scoring=smape_score, verbose=0, refit=True)\n",
    "randfor_model.fit(features_train, targets_train)\n",
    "randfor_model.cv_results_['mean_test_score']"
   ]
  },
  {
   "cell_type": "markdown",
   "metadata": {},
   "source": [
    "We see that RandomForestRegressor gives the best scores. Now to test it in front of our test set-"
   ]
  },
  {
   "cell_type": "markdown",
   "metadata": {},
   "source": [
    "Selecting best hyperparameters:"
   ]
  },
  {
   "cell_type": "code",
   "execution_count": 30,
   "metadata": {},
   "outputs": [
    {
     "data": {
      "text/plain": [
       "{'max_depth': 50,\n",
       " 'min_impurity_decrease': 0.15000000000000002,\n",
       " 'n_estimators': 40}"
      ]
     },
     "execution_count": 30,
     "metadata": {},
     "output_type": "execute_result"
    }
   ],
   "source": [
    "randfor_model.best_params_"
   ]
  },
  {
   "cell_type": "code",
   "execution_count": 33,
   "metadata": {},
   "outputs": [
    {
     "data": {
      "text/plain": [
       "9.446083803424699"
      ]
     },
     "execution_count": 33,
     "metadata": {},
     "output_type": "execute_result"
    }
   ],
   "source": [
    "best_model = RandomForestRegressor(max_depth= 50, min_impurity_decrease= 0.15000000000000002, n_estimators= 40, random_state = 1337)\n",
    "best_model.fit(features_train, targets_train)\n",
    "pred = best_model.predict(features_test)\n",
    "score = smape_final(targets_test, pred)\n",
    "score"
   ]
  },
  {
   "cell_type": "markdown",
   "metadata": {},
   "source": [
    "Not a bad result. Quite similar to training set."
   ]
  },
  {
   "cell_type": "markdown",
   "metadata": {},
   "source": [
    "As a sanity check, a comparison to a dummy model-"
   ]
  },
  {
   "cell_type": "code",
   "execution_count": 36,
   "metadata": {},
   "outputs": [
    {
     "data": {
      "text/plain": [
       "9.831066377059802"
      ]
     },
     "execution_count": 36,
     "metadata": {},
     "output_type": "execute_result"
    }
   ],
   "source": [
    "dummy_model = DummyRegressor(strategy='mean')\n",
    "dummy_model.fit(features_train, targets_train)\n",
    "pred = dummy_model.predict(features_test)\n",
    "score = smape_final(targets_test, pred)\n",
    "score"
   ]
  },
  {
   "cell_type": "markdown",
   "metadata": {},
   "source": [
    "Seems like our result is slightly better than a dummy model."
   ]
  },
  {
   "cell_type": "markdown",
   "metadata": {},
   "source": [
    "## Conclusions"
   ]
  },
  {
   "cell_type": "markdown",
   "metadata": {},
   "source": [
    "Gold processing is an envolved process. There are many elements that need to be tracked- and not all of them belong in a machine model. Better understanding of the chemical process is probably required to choose which features should be fed into the machine.\n",
    "\n",
    "With the given test set, a relatively big error is expected- recovery rates for the test set are showen to be slightly skewed relative to the given training set.\n",
    "\n",
    "The final model created is able to produce decent results, but will likely improve if the scope for relevant features is narrowed further, as there will be less noise.\n",
    "\n",
    "If given more runtime, hyperparameters can be tuned much futher, also probably producing better results."
   ]
  }
 ],
 "metadata": {
  "ExecuteTimeLog": [
   {
    "duration": 1166,
    "start_time": "2022-06-21T09:30:58.816Z"
   },
   {
    "duration": 1365,
    "start_time": "2022-06-21T09:33:17.321Z"
   },
   {
    "duration": 23,
    "start_time": "2022-06-21T09:35:06.892Z"
   },
   {
    "duration": 5,
    "start_time": "2022-06-21T09:43:25.465Z"
   },
   {
    "duration": 9,
    "start_time": "2022-06-21T09:43:29.920Z"
   },
   {
    "duration": 16,
    "start_time": "2022-06-21T10:12:30.070Z"
   },
   {
    "duration": 16,
    "start_time": "2022-06-21T10:13:53.289Z"
   },
   {
    "duration": 6,
    "start_time": "2022-06-21T10:18:37.723Z"
   },
   {
    "duration": 6,
    "start_time": "2022-06-21T10:18:42.644Z"
   },
   {
    "duration": 9,
    "start_time": "2022-06-21T10:19:18.471Z"
   },
   {
    "duration": 97,
    "start_time": "2022-06-21T10:20:04.354Z"
   },
   {
    "duration": 9,
    "start_time": "2022-06-21T10:20:09.647Z"
   },
   {
    "duration": 4,
    "start_time": "2022-06-21T10:20:18.338Z"
   },
   {
    "duration": 5,
    "start_time": "2022-06-21T10:20:30.509Z"
   },
   {
    "duration": 5,
    "start_time": "2022-06-21T10:20:45.253Z"
   },
   {
    "duration": 6,
    "start_time": "2022-06-21T10:20:54.548Z"
   },
   {
    "duration": 5,
    "start_time": "2022-06-21T10:20:56.282Z"
   },
   {
    "duration": 1314,
    "start_time": "2022-06-21T10:22:09.466Z"
   },
   {
    "duration": 6,
    "start_time": "2022-06-21T10:22:27.870Z"
   },
   {
    "duration": 6,
    "start_time": "2022-06-21T10:22:29.895Z"
   },
   {
    "duration": 6,
    "start_time": "2022-06-21T10:22:30.740Z"
   },
   {
    "duration": 7,
    "start_time": "2022-06-21T10:26:02.249Z"
   },
   {
    "duration": 6,
    "start_time": "2022-06-21T10:26:02.838Z"
   },
   {
    "duration": 6,
    "start_time": "2022-06-21T10:26:04.019Z"
   },
   {
    "duration": 10,
    "start_time": "2022-06-21T10:26:54.829Z"
   },
   {
    "duration": 5,
    "start_time": "2022-06-21T10:28:05.265Z"
   },
   {
    "duration": 5,
    "start_time": "2022-06-21T10:28:13.084Z"
   },
   {
    "duration": 19,
    "start_time": "2022-06-21T10:30:15.914Z"
   },
   {
    "duration": 4,
    "start_time": "2022-06-21T10:31:37.348Z"
   },
   {
    "duration": 760,
    "start_time": "2022-06-21T10:31:37.354Z"
   },
   {
    "duration": 27,
    "start_time": "2022-06-21T10:31:38.116Z"
   },
   {
    "duration": 6,
    "start_time": "2022-06-21T10:31:38.145Z"
   },
   {
    "duration": 13,
    "start_time": "2022-06-21T10:31:38.152Z"
   },
   {
    "duration": 14,
    "start_time": "2022-06-21T10:31:38.167Z"
   },
   {
    "duration": 21,
    "start_time": "2022-06-21T10:31:38.183Z"
   },
   {
    "duration": 5,
    "start_time": "2022-06-21T10:40:11.155Z"
   },
   {
    "duration": 4,
    "start_time": "2022-06-21T10:40:40.312Z"
   },
   {
    "duration": 5,
    "start_time": "2022-06-21T10:43:27.519Z"
   },
   {
    "duration": 4,
    "start_time": "2022-06-21T10:43:35.799Z"
   },
   {
    "duration": 5,
    "start_time": "2022-06-21T10:43:36.398Z"
   },
   {
    "duration": 4,
    "start_time": "2022-06-21T10:43:39.703Z"
   },
   {
    "duration": 6,
    "start_time": "2022-06-21T10:43:50.733Z"
   },
   {
    "duration": 7,
    "start_time": "2022-06-21T10:43:53.040Z"
   },
   {
    "duration": 3,
    "start_time": "2022-06-21T10:44:05.511Z"
   },
   {
    "duration": 725,
    "start_time": "2022-06-21T10:44:05.516Z"
   },
   {
    "duration": 18,
    "start_time": "2022-06-21T10:44:06.242Z"
   },
   {
    "duration": 5,
    "start_time": "2022-06-21T10:44:06.261Z"
   },
   {
    "duration": 7,
    "start_time": "2022-06-21T10:44:06.268Z"
   },
   {
    "duration": 8,
    "start_time": "2022-06-21T10:44:06.276Z"
   },
   {
    "duration": 14,
    "start_time": "2022-06-21T10:44:06.285Z"
   },
   {
    "duration": 5,
    "start_time": "2022-06-21T10:46:08.654Z"
   },
   {
    "duration": 5,
    "start_time": "2022-06-21T10:46:10.925Z"
   },
   {
    "duration": 4,
    "start_time": "2022-06-21T10:47:35.144Z"
   },
   {
    "duration": 5,
    "start_time": "2022-06-21T10:47:35.954Z"
   },
   {
    "duration": 13,
    "start_time": "2022-06-21T10:47:54.633Z"
   },
   {
    "duration": 13,
    "start_time": "2022-06-21T10:48:15.081Z"
   },
   {
    "duration": 14,
    "start_time": "2022-06-21T10:51:40.244Z"
   },
   {
    "duration": 18,
    "start_time": "2022-06-21T10:52:28.043Z"
   },
   {
    "duration": 13,
    "start_time": "2022-06-21T10:54:23.286Z"
   },
   {
    "duration": 11,
    "start_time": "2022-06-21T10:54:40.927Z"
   },
   {
    "duration": 3,
    "start_time": "2022-06-21T10:57:51.822Z"
   },
   {
    "duration": 725,
    "start_time": "2022-06-21T10:57:51.827Z"
   },
   {
    "duration": 20,
    "start_time": "2022-06-21T10:57:52.554Z"
   },
   {
    "duration": 5,
    "start_time": "2022-06-21T10:57:52.575Z"
   },
   {
    "duration": 6,
    "start_time": "2022-06-21T10:57:52.582Z"
   },
   {
    "duration": 4,
    "start_time": "2022-06-21T10:57:52.590Z"
   },
   {
    "duration": 12,
    "start_time": "2022-06-21T10:57:52.596Z"
   },
   {
    "duration": 3,
    "start_time": "2022-06-21T10:59:29.633Z"
   },
   {
    "duration": 703,
    "start_time": "2022-06-21T10:59:29.639Z"
   },
   {
    "duration": 19,
    "start_time": "2022-06-21T10:59:30.344Z"
   },
   {
    "duration": 8,
    "start_time": "2022-06-21T10:59:30.365Z"
   },
   {
    "duration": 10,
    "start_time": "2022-06-21T10:59:30.375Z"
   },
   {
    "duration": 27,
    "start_time": "2022-06-21T10:59:30.387Z"
   },
   {
    "duration": 43,
    "start_time": "2022-06-21T10:59:30.416Z"
   },
   {
    "duration": 11,
    "start_time": "2022-06-21T10:59:50.574Z"
   },
   {
    "duration": 6,
    "start_time": "2022-06-21T11:00:02.362Z"
   },
   {
    "duration": 11,
    "start_time": "2022-06-21T11:00:22.802Z"
   },
   {
    "duration": 6,
    "start_time": "2022-06-21T11:00:38.364Z"
   },
   {
    "duration": 3,
    "start_time": "2022-06-21T11:01:00.519Z"
   },
   {
    "duration": 721,
    "start_time": "2022-06-21T11:01:00.524Z"
   },
   {
    "duration": 17,
    "start_time": "2022-06-21T11:01:01.247Z"
   },
   {
    "duration": 9,
    "start_time": "2022-06-21T11:01:01.267Z"
   },
   {
    "duration": 8,
    "start_time": "2022-06-21T11:01:01.278Z"
   },
   {
    "duration": 14,
    "start_time": "2022-06-21T11:01:01.288Z"
   },
   {
    "duration": 39,
    "start_time": "2022-06-21T11:01:01.304Z"
   },
   {
    "duration": 18,
    "start_time": "2022-06-21T11:01:13.313Z"
   },
   {
    "duration": 3,
    "start_time": "2022-06-21T11:02:43.577Z"
   },
   {
    "duration": 700,
    "start_time": "2022-06-21T11:02:43.581Z"
   },
   {
    "duration": 17,
    "start_time": "2022-06-21T11:02:44.283Z"
   },
   {
    "duration": 7,
    "start_time": "2022-06-21T11:02:44.302Z"
   },
   {
    "duration": 11,
    "start_time": "2022-06-21T11:02:44.310Z"
   },
   {
    "duration": 20,
    "start_time": "2022-06-21T11:02:44.322Z"
   },
   {
    "duration": 326,
    "start_time": "2022-06-21T11:02:44.344Z"
   },
   {
    "duration": 0,
    "start_time": "2022-06-21T11:02:44.672Z"
   },
   {
    "duration": 12,
    "start_time": "2022-06-21T11:08:07.140Z"
   },
   {
    "duration": 16,
    "start_time": "2022-06-21T11:08:25.891Z"
   },
   {
    "duration": 8,
    "start_time": "2022-06-21T11:08:51.347Z"
   },
   {
    "duration": 1369,
    "start_time": "2022-06-21T11:11:01.926Z"
   },
   {
    "duration": 6,
    "start_time": "2022-06-21T11:14:59.722Z"
   },
   {
    "duration": 12,
    "start_time": "2022-06-21T11:15:30.560Z"
   },
   {
    "duration": 398,
    "start_time": "2022-06-21T11:16:01.109Z"
   },
   {
    "duration": 8,
    "start_time": "2022-06-21T11:18:43.225Z"
   },
   {
    "duration": 3,
    "start_time": "2022-06-21T11:18:59.865Z"
   },
   {
    "duration": 681,
    "start_time": "2022-06-21T11:18:59.870Z"
   },
   {
    "duration": 16,
    "start_time": "2022-06-21T11:19:00.552Z"
   },
   {
    "duration": 7,
    "start_time": "2022-06-21T11:19:00.570Z"
   },
   {
    "duration": 13,
    "start_time": "2022-06-21T11:19:00.579Z"
   },
   {
    "duration": 15,
    "start_time": "2022-06-21T11:19:00.593Z"
   },
   {
    "duration": 3,
    "start_time": "2022-06-21T11:19:18.242Z"
   },
   {
    "duration": 724,
    "start_time": "2022-06-21T11:19:18.247Z"
   },
   {
    "duration": 19,
    "start_time": "2022-06-21T11:19:18.973Z"
   },
   {
    "duration": 6,
    "start_time": "2022-06-21T11:19:18.994Z"
   },
   {
    "duration": 9,
    "start_time": "2022-06-21T11:19:19.001Z"
   },
   {
    "duration": 5,
    "start_time": "2022-06-21T11:19:19.012Z"
   },
   {
    "duration": 6,
    "start_time": "2022-06-21T11:19:25.816Z"
   },
   {
    "duration": 8,
    "start_time": "2022-06-21T11:22:12.371Z"
   },
   {
    "duration": 11,
    "start_time": "2022-06-21T11:22:35.479Z"
   },
   {
    "duration": 8,
    "start_time": "2022-06-21T11:22:39.897Z"
   },
   {
    "duration": 4,
    "start_time": "2022-06-21T11:23:02.690Z"
   },
   {
    "duration": 3,
    "start_time": "2022-06-21T11:36:40.136Z"
   },
   {
    "duration": 697,
    "start_time": "2022-06-21T11:36:40.141Z"
   },
   {
    "duration": 9,
    "start_time": "2022-06-21T11:36:40.841Z"
   },
   {
    "duration": 10,
    "start_time": "2022-06-21T11:36:40.851Z"
   },
   {
    "duration": 8,
    "start_time": "2022-06-21T11:36:40.864Z"
   },
   {
    "duration": 5,
    "start_time": "2022-06-21T11:41:18.273Z"
   },
   {
    "duration": 19,
    "start_time": "2022-06-21T11:41:38.615Z"
   },
   {
    "duration": 10,
    "start_time": "2022-06-21T11:42:05.903Z"
   },
   {
    "duration": 4,
    "start_time": "2022-06-21T11:42:12.019Z"
   },
   {
    "duration": 3,
    "start_time": "2022-06-21T11:45:05.657Z"
   },
   {
    "duration": 6,
    "start_time": "2022-06-21T11:45:12.515Z"
   },
   {
    "duration": 5,
    "start_time": "2022-06-21T11:45:33.051Z"
   },
   {
    "duration": 6,
    "start_time": "2022-06-21T11:45:38.241Z"
   },
   {
    "duration": 5,
    "start_time": "2022-06-21T11:46:01.002Z"
   },
   {
    "duration": 6,
    "start_time": "2022-06-21T11:46:21.914Z"
   },
   {
    "duration": 4,
    "start_time": "2022-06-21T11:46:43.116Z"
   },
   {
    "duration": 17,
    "start_time": "2022-06-21T11:47:01.710Z"
   },
   {
    "duration": 11,
    "start_time": "2022-06-21T11:53:32.388Z"
   },
   {
    "duration": 6,
    "start_time": "2022-06-21T11:53:43.503Z"
   },
   {
    "duration": 8,
    "start_time": "2022-06-21T11:53:50.409Z"
   },
   {
    "duration": 13,
    "start_time": "2022-06-21T11:54:32.391Z"
   },
   {
    "duration": 7,
    "start_time": "2022-06-21T11:54:42.224Z"
   },
   {
    "duration": 24,
    "start_time": "2022-06-21T12:04:58.933Z"
   },
   {
    "duration": 1161,
    "start_time": "2022-06-21T12:14:13.520Z"
   },
   {
    "duration": 852,
    "start_time": "2022-06-21T12:14:14.684Z"
   },
   {
    "duration": 33,
    "start_time": "2022-06-21T12:14:15.538Z"
   },
   {
    "duration": 22,
    "start_time": "2022-06-21T12:14:15.583Z"
   },
   {
    "duration": 7,
    "start_time": "2022-06-21T12:14:15.607Z"
   },
   {
    "duration": 20,
    "start_time": "2022-06-21T12:14:15.616Z"
   },
   {
    "duration": 52,
    "start_time": "2022-06-21T12:14:15.639Z"
   },
   {
    "duration": 50,
    "start_time": "2022-06-21T12:22:19.459Z"
   },
   {
    "duration": 3,
    "start_time": "2022-06-21T12:26:39.690Z"
   },
   {
    "duration": 1721,
    "start_time": "2022-06-21T12:27:47.589Z"
   },
   {
    "duration": 8,
    "start_time": "2022-06-21T12:29:45.316Z"
   },
   {
    "duration": 3,
    "start_time": "2022-06-21T12:29:55.212Z"
   },
   {
    "duration": 854,
    "start_time": "2022-06-21T12:29:55.217Z"
   },
   {
    "duration": 22,
    "start_time": "2022-06-21T12:29:56.073Z"
   },
   {
    "duration": 6,
    "start_time": "2022-06-21T12:29:56.098Z"
   },
   {
    "duration": 4,
    "start_time": "2022-06-21T12:29:56.106Z"
   },
   {
    "duration": 16,
    "start_time": "2022-06-21T12:29:56.111Z"
   },
   {
    "duration": 20,
    "start_time": "2022-06-21T12:29:56.142Z"
   },
   {
    "duration": 25,
    "start_time": "2022-06-21T12:29:56.164Z"
   },
   {
    "duration": 7,
    "start_time": "2022-06-21T12:29:56.191Z"
   },
   {
    "duration": 6,
    "start_time": "2022-06-21T12:30:40.224Z"
   },
   {
    "duration": 5,
    "start_time": "2022-06-21T12:30:56.997Z"
   },
   {
    "duration": 11,
    "start_time": "2022-06-21T12:35:58.544Z"
   },
   {
    "duration": 865,
    "start_time": "2022-06-21T12:35:58.566Z"
   },
   {
    "duration": 29,
    "start_time": "2022-06-21T12:35:59.433Z"
   },
   {
    "duration": 36,
    "start_time": "2022-06-21T12:35:59.467Z"
   },
   {
    "duration": 9,
    "start_time": "2022-06-21T12:35:59.505Z"
   },
   {
    "duration": 9,
    "start_time": "2022-06-21T12:35:59.516Z"
   },
   {
    "duration": 8,
    "start_time": "2022-06-21T12:35:59.527Z"
   },
   {
    "duration": 62,
    "start_time": "2022-06-21T12:35:59.537Z"
   },
   {
    "duration": 16,
    "start_time": "2022-06-21T12:35:59.600Z"
   },
   {
    "duration": 7,
    "start_time": "2022-06-21T12:35:59.618Z"
   },
   {
    "duration": 7,
    "start_time": "2022-06-21T12:35:59.626Z"
   },
   {
    "duration": 7,
    "start_time": "2022-06-21T12:36:22.390Z"
   },
   {
    "duration": 55,
    "start_time": "2022-06-21T12:42:16.832Z"
   },
   {
    "duration": 8,
    "start_time": "2022-06-21T12:42:25.696Z"
   },
   {
    "duration": 17,
    "start_time": "2022-06-21T12:42:34.294Z"
   },
   {
    "duration": 13,
    "start_time": "2022-06-21T12:43:48.298Z"
   },
   {
    "duration": 18,
    "start_time": "2022-06-21T12:48:27.919Z"
   },
   {
    "duration": 3,
    "start_time": "2022-06-21T12:59:04.985Z"
   },
   {
    "duration": 732,
    "start_time": "2022-06-21T12:59:04.990Z"
   },
   {
    "duration": 22,
    "start_time": "2022-06-21T12:59:05.724Z"
   },
   {
    "duration": 7,
    "start_time": "2022-06-21T12:59:05.748Z"
   },
   {
    "duration": 7,
    "start_time": "2022-06-21T12:59:05.756Z"
   },
   {
    "duration": 11,
    "start_time": "2022-06-21T12:59:05.764Z"
   },
   {
    "duration": 11,
    "start_time": "2022-06-21T12:59:05.777Z"
   },
   {
    "duration": 10,
    "start_time": "2022-06-21T12:59:05.790Z"
   },
   {
    "duration": 8,
    "start_time": "2022-06-21T12:59:05.802Z"
   },
   {
    "duration": 31,
    "start_time": "2022-06-21T12:59:05.812Z"
   },
   {
    "duration": 12,
    "start_time": "2022-06-21T12:59:05.846Z"
   },
   {
    "duration": 25,
    "start_time": "2022-06-21T12:59:05.860Z"
   },
   {
    "duration": 13,
    "start_time": "2022-06-21T12:59:05.887Z"
   },
   {
    "duration": 48,
    "start_time": "2022-06-21T12:59:05.902Z"
   },
   {
    "duration": 3,
    "start_time": "2022-06-21T13:27:01.594Z"
   },
   {
    "duration": 4,
    "start_time": "2022-06-21T13:27:05.949Z"
   },
   {
    "duration": 12,
    "start_time": "2022-06-21T13:33:20.047Z"
   },
   {
    "duration": 12,
    "start_time": "2022-06-21T13:34:02.727Z"
   },
   {
    "duration": 11,
    "start_time": "2022-06-21T13:34:19.593Z"
   },
   {
    "duration": 12,
    "start_time": "2022-06-21T13:34:33.106Z"
   },
   {
    "duration": 15,
    "start_time": "2022-06-21T13:34:38.721Z"
   },
   {
    "duration": 12,
    "start_time": "2022-06-21T13:34:56.198Z"
   },
   {
    "duration": 4,
    "start_time": "2022-06-21T13:35:09.152Z"
   },
   {
    "duration": 710,
    "start_time": "2022-06-21T13:35:09.159Z"
   },
   {
    "duration": 26,
    "start_time": "2022-06-21T13:35:09.871Z"
   },
   {
    "duration": 0,
    "start_time": "2022-06-21T13:35:09.899Z"
   },
   {
    "duration": 0,
    "start_time": "2022-06-21T13:35:09.901Z"
   },
   {
    "duration": 0,
    "start_time": "2022-06-21T13:35:09.902Z"
   },
   {
    "duration": 0,
    "start_time": "2022-06-21T13:35:09.903Z"
   },
   {
    "duration": 0,
    "start_time": "2022-06-21T13:35:09.904Z"
   },
   {
    "duration": 0,
    "start_time": "2022-06-21T13:35:09.906Z"
   },
   {
    "duration": 0,
    "start_time": "2022-06-21T13:35:09.907Z"
   },
   {
    "duration": 0,
    "start_time": "2022-06-21T13:35:09.908Z"
   },
   {
    "duration": 0,
    "start_time": "2022-06-21T13:35:09.909Z"
   },
   {
    "duration": 1241,
    "start_time": "2022-06-21T13:35:44.350Z"
   },
   {
    "duration": 876,
    "start_time": "2022-06-21T13:35:45.593Z"
   },
   {
    "duration": 19,
    "start_time": "2022-06-21T13:35:46.471Z"
   },
   {
    "duration": 13,
    "start_time": "2022-06-21T13:35:46.491Z"
   },
   {
    "duration": 5,
    "start_time": "2022-06-21T13:35:46.507Z"
   },
   {
    "duration": 33,
    "start_time": "2022-06-21T13:35:46.514Z"
   },
   {
    "duration": 10,
    "start_time": "2022-06-21T13:35:46.549Z"
   },
   {
    "duration": 15,
    "start_time": "2022-06-21T13:35:46.561Z"
   },
   {
    "duration": 12,
    "start_time": "2022-06-21T13:35:46.578Z"
   },
   {
    "duration": 15,
    "start_time": "2022-06-21T13:35:46.593Z"
   },
   {
    "duration": 9,
    "start_time": "2022-06-21T13:35:46.609Z"
   },
   {
    "duration": 832,
    "start_time": "2022-06-21T13:35:46.620Z"
   },
   {
    "duration": 432,
    "start_time": "2022-06-21T13:38:31.987Z"
   },
   {
    "duration": 1212,
    "start_time": "2022-06-21T13:39:56.188Z"
   },
   {
    "duration": 818,
    "start_time": "2022-06-21T13:39:57.403Z"
   },
   {
    "duration": 26,
    "start_time": "2022-06-21T13:39:58.222Z"
   },
   {
    "duration": 19,
    "start_time": "2022-06-21T13:39:58.249Z"
   },
   {
    "duration": 5,
    "start_time": "2022-06-21T13:39:58.271Z"
   },
   {
    "duration": 15,
    "start_time": "2022-06-21T13:39:58.277Z"
   },
   {
    "duration": 10,
    "start_time": "2022-06-21T13:39:58.294Z"
   },
   {
    "duration": 40,
    "start_time": "2022-06-21T13:39:58.306Z"
   },
   {
    "duration": 9,
    "start_time": "2022-06-21T13:39:58.349Z"
   },
   {
    "duration": 17,
    "start_time": "2022-06-21T13:39:58.360Z"
   },
   {
    "duration": 9,
    "start_time": "2022-06-21T13:39:58.379Z"
   },
   {
    "duration": 7,
    "start_time": "2022-06-21T13:39:58.390Z"
   },
   {
    "duration": 14,
    "start_time": "2022-06-21T13:40:07.738Z"
   },
   {
    "duration": 7,
    "start_time": "2022-06-21T13:40:15.483Z"
   },
   {
    "duration": 9,
    "start_time": "2022-06-21T13:40:15.979Z"
   },
   {
    "duration": 7,
    "start_time": "2022-06-21T13:41:00.703Z"
   },
   {
    "duration": 9,
    "start_time": "2022-06-21T13:41:01.278Z"
   },
   {
    "duration": 9,
    "start_time": "2022-06-21T13:41:37.339Z"
   },
   {
    "duration": 9,
    "start_time": "2022-06-21T13:41:37.815Z"
   },
   {
    "duration": 10,
    "start_time": "2022-06-21T13:42:48.295Z"
   },
   {
    "duration": 9,
    "start_time": "2022-06-21T13:42:48.941Z"
   },
   {
    "duration": 11,
    "start_time": "2022-06-21T13:43:28.218Z"
   },
   {
    "duration": 8,
    "start_time": "2022-06-21T13:43:29.187Z"
   },
   {
    "duration": 13,
    "start_time": "2022-06-21T13:43:57.431Z"
   },
   {
    "duration": 8,
    "start_time": "2022-06-21T13:43:59.104Z"
   },
   {
    "duration": 19,
    "start_time": "2022-06-21T13:45:12.815Z"
   },
   {
    "duration": 10,
    "start_time": "2022-06-21T13:45:13.503Z"
   },
   {
    "duration": 120,
    "start_time": "2022-06-21T13:47:17.992Z"
   },
   {
    "duration": 627,
    "start_time": "2022-06-21T13:47:49.543Z"
   },
   {
    "duration": 163,
    "start_time": "2022-06-21T13:49:04.727Z"
   },
   {
    "duration": 121,
    "start_time": "2022-06-21T13:57:05.583Z"
   },
   {
    "duration": 146,
    "start_time": "2022-06-21T13:57:22.887Z"
   },
   {
    "duration": 149,
    "start_time": "2022-06-21T13:57:52.627Z"
   },
   {
    "duration": 12,
    "start_time": "2022-06-21T13:58:35.032Z"
   },
   {
    "duration": 3,
    "start_time": "2022-06-21T13:58:51.246Z"
   },
   {
    "duration": 334,
    "start_time": "2022-06-21T13:58:55.479Z"
   },
   {
    "duration": 289,
    "start_time": "2022-06-21T13:59:38.891Z"
   },
   {
    "duration": 340,
    "start_time": "2022-06-21T14:00:06.034Z"
   },
   {
    "duration": 397,
    "start_time": "2022-06-21T14:02:00.255Z"
   },
   {
    "duration": 216,
    "start_time": "2022-06-21T14:03:59.086Z"
   },
   {
    "duration": 262,
    "start_time": "2022-06-21T14:04:32.395Z"
   },
   {
    "duration": 425,
    "start_time": "2022-06-21T14:04:47.047Z"
   },
   {
    "duration": 417,
    "start_time": "2022-06-21T14:17:41.899Z"
   },
   {
    "duration": 533,
    "start_time": "2022-06-21T14:17:52.889Z"
   },
   {
    "duration": 390,
    "start_time": "2022-06-21T14:18:10.479Z"
   },
   {
    "duration": 132,
    "start_time": "2022-06-21T14:18:48.818Z"
   },
   {
    "duration": 383,
    "start_time": "2022-06-21T14:19:07.400Z"
   },
   {
    "duration": 152,
    "start_time": "2022-06-21T14:19:27.032Z"
   },
   {
    "duration": 495,
    "start_time": "2022-06-21T14:19:40.031Z"
   },
   {
    "duration": 454,
    "start_time": "2022-06-21T14:20:37.825Z"
   },
   {
    "duration": 3,
    "start_time": "2022-06-21T15:17:51.174Z"
   },
   {
    "duration": 3,
    "start_time": "2022-06-21T15:17:59.838Z"
   },
   {
    "duration": 11,
    "start_time": "2022-06-21T15:22:32.634Z"
   },
   {
    "duration": 3,
    "start_time": "2022-06-21T15:23:15.286Z"
   },
   {
    "duration": 889,
    "start_time": "2022-06-21T15:23:15.290Z"
   },
   {
    "duration": 20,
    "start_time": "2022-06-21T15:23:16.181Z"
   },
   {
    "duration": 8,
    "start_time": "2022-06-21T15:23:16.203Z"
   },
   {
    "duration": 8,
    "start_time": "2022-06-21T15:23:16.213Z"
   },
   {
    "duration": 11,
    "start_time": "2022-06-21T15:23:16.242Z"
   },
   {
    "duration": 11,
    "start_time": "2022-06-21T15:23:16.255Z"
   },
   {
    "duration": 18,
    "start_time": "2022-06-21T15:23:16.268Z"
   },
   {
    "duration": 8,
    "start_time": "2022-06-21T15:23:16.289Z"
   },
   {
    "duration": 25,
    "start_time": "2022-06-21T15:23:16.298Z"
   },
   {
    "duration": 29,
    "start_time": "2022-06-21T15:23:16.325Z"
   },
   {
    "duration": 17,
    "start_time": "2022-06-21T15:23:16.356Z"
   },
   {
    "duration": 170,
    "start_time": "2022-06-21T15:23:16.375Z"
   },
   {
    "duration": 668,
    "start_time": "2022-06-21T15:23:16.549Z"
   },
   {
    "duration": 4,
    "start_time": "2022-06-21T15:23:17.219Z"
   },
   {
    "duration": 21,
    "start_time": "2022-06-21T15:23:17.224Z"
   },
   {
    "duration": 12,
    "start_time": "2022-06-21T15:23:23.635Z"
   },
   {
    "duration": 1749,
    "start_time": "2022-06-21T15:23:46.022Z"
   },
   {
    "duration": 1705,
    "start_time": "2022-06-21T15:24:00.060Z"
   },
   {
    "duration": 1764,
    "start_time": "2022-06-21T15:27:05.563Z"
   },
   {
    "duration": 1668,
    "start_time": "2022-06-21T15:27:32.784Z"
   },
   {
    "duration": 1699,
    "start_time": "2022-06-21T15:27:42.681Z"
   },
   {
    "duration": 22,
    "start_time": "2022-06-21T15:39:03.641Z"
   },
   {
    "duration": 42,
    "start_time": "2022-06-21T15:40:12.778Z"
   },
   {
    "duration": 4298,
    "start_time": "2022-06-21T15:41:14.334Z"
   },
   {
    "duration": 85,
    "start_time": "2022-06-21T15:41:29.681Z"
   },
   {
    "duration": 25,
    "start_time": "2022-06-21T15:41:38.897Z"
   },
   {
    "duration": 55,
    "start_time": "2022-06-21T15:41:51.705Z"
   },
   {
    "duration": 21,
    "start_time": "2022-06-21T15:44:08.109Z"
   },
   {
    "duration": 4530,
    "start_time": "2022-06-21T15:44:45.425Z"
   },
   {
    "duration": 13,
    "start_time": "2022-06-21T15:45:07.191Z"
   },
   {
    "duration": 14,
    "start_time": "2022-06-21T15:45:32.532Z"
   },
   {
    "duration": 21,
    "start_time": "2022-06-21T15:47:18.778Z"
   },
   {
    "duration": 125,
    "start_time": "2022-06-21T15:48:36.343Z"
   },
   {
    "duration": 29,
    "start_time": "2022-06-21T15:49:43.293Z"
   },
   {
    "duration": 3,
    "start_time": "2022-06-21T15:49:52.608Z"
   },
   {
    "duration": 730,
    "start_time": "2022-06-21T15:49:52.613Z"
   },
   {
    "duration": 18,
    "start_time": "2022-06-21T15:49:53.345Z"
   },
   {
    "duration": 10,
    "start_time": "2022-06-21T15:49:53.365Z"
   },
   {
    "duration": 5,
    "start_time": "2022-06-21T15:49:53.377Z"
   },
   {
    "duration": 11,
    "start_time": "2022-06-21T15:49:53.383Z"
   },
   {
    "duration": 12,
    "start_time": "2022-06-21T15:49:53.395Z"
   },
   {
    "duration": 7,
    "start_time": "2022-06-21T15:49:53.408Z"
   },
   {
    "duration": 28,
    "start_time": "2022-06-21T15:49:53.417Z"
   },
   {
    "duration": 15,
    "start_time": "2022-06-21T15:49:53.447Z"
   },
   {
    "duration": 14,
    "start_time": "2022-06-21T15:49:53.464Z"
   },
   {
    "duration": 14,
    "start_time": "2022-06-21T15:49:53.480Z"
   },
   {
    "duration": 185,
    "start_time": "2022-06-21T15:49:53.496Z"
   },
   {
    "duration": 578,
    "start_time": "2022-06-21T15:49:53.683Z"
   },
   {
    "duration": 3,
    "start_time": "2022-06-21T15:49:54.263Z"
   },
   {
    "duration": 12,
    "start_time": "2022-06-21T15:49:54.268Z"
   },
   {
    "duration": 1684,
    "start_time": "2022-06-21T15:49:54.282Z"
   },
   {
    "duration": 27,
    "start_time": "2022-06-21T15:49:55.968Z"
   },
   {
    "duration": 15,
    "start_time": "2022-06-21T15:50:05.882Z"
   },
   {
    "duration": 21,
    "start_time": "2022-06-21T15:53:20.829Z"
   },
   {
    "duration": 1772,
    "start_time": "2022-06-21T15:53:51.028Z"
   },
   {
    "duration": 26,
    "start_time": "2022-06-21T15:54:57.922Z"
   },
   {
    "duration": 1390,
    "start_time": "2022-06-21T15:55:18.052Z"
   },
   {
    "duration": 826,
    "start_time": "2022-06-21T15:55:19.444Z"
   },
   {
    "duration": 20,
    "start_time": "2022-06-21T15:55:20.271Z"
   },
   {
    "duration": 9,
    "start_time": "2022-06-21T15:55:20.293Z"
   },
   {
    "duration": 4,
    "start_time": "2022-06-21T15:55:20.304Z"
   },
   {
    "duration": 33,
    "start_time": "2022-06-21T15:55:20.310Z"
   },
   {
    "duration": 7,
    "start_time": "2022-06-21T15:55:20.345Z"
   },
   {
    "duration": 9,
    "start_time": "2022-06-21T15:55:20.353Z"
   },
   {
    "duration": 7,
    "start_time": "2022-06-21T15:55:20.364Z"
   },
   {
    "duration": 11,
    "start_time": "2022-06-21T15:55:20.374Z"
   },
   {
    "duration": 9,
    "start_time": "2022-06-21T15:55:20.386Z"
   },
   {
    "duration": 12,
    "start_time": "2022-06-21T15:55:20.397Z"
   },
   {
    "duration": 203,
    "start_time": "2022-06-21T15:55:20.411Z"
   },
   {
    "duration": 487,
    "start_time": "2022-06-21T15:55:20.615Z"
   },
   {
    "duration": 3,
    "start_time": "2022-06-21T15:55:21.104Z"
   },
   {
    "duration": 17,
    "start_time": "2022-06-21T15:55:21.108Z"
   },
   {
    "duration": 1760,
    "start_time": "2022-06-21T15:55:21.127Z"
   },
   {
    "duration": 110,
    "start_time": "2022-06-21T15:55:22.889Z"
   },
   {
    "duration": 1707,
    "start_time": "2022-06-21T15:55:23.000Z"
   },
   {
    "duration": 35,
    "start_time": "2022-06-21T15:55:24.708Z"
   },
   {
    "duration": 18,
    "start_time": "2022-06-21T16:00:24.642Z"
   },
   {
    "duration": 18,
    "start_time": "2022-06-21T16:00:36.282Z"
   },
   {
    "duration": 13,
    "start_time": "2022-06-21T16:01:59.505Z"
   },
   {
    "duration": 13,
    "start_time": "2022-06-24T07:41:48.295Z"
   },
   {
    "duration": 3,
    "start_time": "2022-06-24T07:45:32.180Z"
   },
   {
    "duration": 3,
    "start_time": "2022-06-24T07:45:38.550Z"
   },
   {
    "duration": 1651,
    "start_time": "2022-06-24T07:47:06.176Z"
   },
   {
    "duration": 4145,
    "start_time": "2022-06-24T07:47:07.829Z"
   },
   {
    "duration": 18,
    "start_time": "2022-06-24T07:47:11.975Z"
   },
   {
    "duration": 14,
    "start_time": "2022-06-24T07:47:11.995Z"
   },
   {
    "duration": 5,
    "start_time": "2022-06-24T07:47:12.010Z"
   },
   {
    "duration": 18,
    "start_time": "2022-06-24T07:47:12.017Z"
   },
   {
    "duration": 10,
    "start_time": "2022-06-24T07:47:12.037Z"
   },
   {
    "duration": 42,
    "start_time": "2022-06-24T07:47:12.049Z"
   },
   {
    "duration": 29,
    "start_time": "2022-06-24T07:47:12.093Z"
   },
   {
    "duration": 26,
    "start_time": "2022-06-24T07:47:12.125Z"
   },
   {
    "duration": 30,
    "start_time": "2022-06-24T07:47:12.153Z"
   },
   {
    "duration": 21,
    "start_time": "2022-06-24T07:47:12.185Z"
   },
   {
    "duration": 195,
    "start_time": "2022-06-24T07:47:12.207Z"
   },
   {
    "duration": 598,
    "start_time": "2022-06-24T07:47:12.404Z"
   },
   {
    "duration": 4,
    "start_time": "2022-06-24T07:47:13.004Z"
   },
   {
    "duration": 27,
    "start_time": "2022-06-24T07:47:13.010Z"
   },
   {
    "duration": 1979,
    "start_time": "2022-06-24T07:47:13.039Z"
   },
   {
    "duration": 105,
    "start_time": "2022-06-24T07:47:15.020Z"
   },
   {
    "duration": 14,
    "start_time": "2022-06-24T07:47:15.126Z"
   },
   {
    "duration": 28,
    "start_time": "2022-06-24T07:47:15.142Z"
   },
   {
    "duration": 15,
    "start_time": "2022-06-24T07:47:15.171Z"
   },
   {
    "duration": 48,
    "start_time": "2022-06-24T08:02:49.530Z"
   },
   {
    "duration": 115,
    "start_time": "2022-06-24T08:03:39.877Z"
   },
   {
    "duration": 3,
    "start_time": "2022-06-24T08:03:47.020Z"
   },
   {
    "duration": 905,
    "start_time": "2022-06-24T08:03:47.025Z"
   },
   {
    "duration": 18,
    "start_time": "2022-06-24T08:03:47.932Z"
   },
   {
    "duration": 10,
    "start_time": "2022-06-24T08:03:47.961Z"
   },
   {
    "duration": 10,
    "start_time": "2022-06-24T08:03:47.973Z"
   },
   {
    "duration": 8,
    "start_time": "2022-06-24T08:03:47.985Z"
   },
   {
    "duration": 8,
    "start_time": "2022-06-24T08:03:47.995Z"
   },
   {
    "duration": 9,
    "start_time": "2022-06-24T08:03:48.005Z"
   },
   {
    "duration": 8,
    "start_time": "2022-06-24T08:03:48.015Z"
   },
   {
    "duration": 36,
    "start_time": "2022-06-24T08:03:48.025Z"
   },
   {
    "duration": 22,
    "start_time": "2022-06-24T08:03:50.673Z"
   },
   {
    "duration": 3,
    "start_time": "2022-06-24T08:04:07.109Z"
   },
   {
    "duration": 909,
    "start_time": "2022-06-24T08:04:07.114Z"
   },
   {
    "duration": 17,
    "start_time": "2022-06-24T08:04:08.025Z"
   },
   {
    "duration": 26,
    "start_time": "2022-06-24T08:04:08.044Z"
   },
   {
    "duration": 11,
    "start_time": "2022-06-24T08:04:08.073Z"
   },
   {
    "duration": 9,
    "start_time": "2022-06-24T08:04:08.086Z"
   },
   {
    "duration": 6,
    "start_time": "2022-06-24T08:04:08.097Z"
   },
   {
    "duration": 7,
    "start_time": "2022-06-24T08:04:08.104Z"
   },
   {
    "duration": 12,
    "start_time": "2022-06-24T08:04:08.112Z"
   },
   {
    "duration": 12,
    "start_time": "2022-06-24T08:04:08.125Z"
   },
   {
    "duration": 42,
    "start_time": "2022-06-24T08:04:09.648Z"
   },
   {
    "duration": 28,
    "start_time": "2022-06-24T08:04:29.405Z"
   },
   {
    "duration": 4,
    "start_time": "2022-06-24T08:04:36.004Z"
   },
   {
    "duration": 836,
    "start_time": "2022-06-24T08:04:36.011Z"
   },
   {
    "duration": 26,
    "start_time": "2022-06-24T08:04:36.849Z"
   },
   {
    "duration": 7,
    "start_time": "2022-06-24T08:04:36.877Z"
   },
   {
    "duration": 6,
    "start_time": "2022-06-24T08:04:36.886Z"
   },
   {
    "duration": 10,
    "start_time": "2022-06-24T08:04:36.893Z"
   },
   {
    "duration": 8,
    "start_time": "2022-06-24T08:04:36.905Z"
   },
   {
    "duration": 8,
    "start_time": "2022-06-24T08:04:36.915Z"
   },
   {
    "duration": 13,
    "start_time": "2022-06-24T08:04:36.924Z"
   },
   {
    "duration": 47,
    "start_time": "2022-06-24T08:04:36.940Z"
   },
   {
    "duration": 18,
    "start_time": "2022-06-24T08:04:38.481Z"
   },
   {
    "duration": 3,
    "start_time": "2022-06-24T08:04:51.507Z"
   },
   {
    "duration": 788,
    "start_time": "2022-06-24T08:04:51.512Z"
   },
   {
    "duration": 20,
    "start_time": "2022-06-24T08:04:52.302Z"
   },
   {
    "duration": 8,
    "start_time": "2022-06-24T08:04:52.324Z"
   },
   {
    "duration": 34,
    "start_time": "2022-06-24T08:04:52.335Z"
   },
   {
    "duration": 14,
    "start_time": "2022-06-24T08:04:52.372Z"
   },
   {
    "duration": 9,
    "start_time": "2022-06-24T08:04:52.388Z"
   },
   {
    "duration": 6,
    "start_time": "2022-06-24T08:04:52.399Z"
   },
   {
    "duration": 8,
    "start_time": "2022-06-24T08:04:52.406Z"
   },
   {
    "duration": 15,
    "start_time": "2022-06-24T08:04:52.415Z"
   },
   {
    "duration": 19,
    "start_time": "2022-06-24T08:04:52.431Z"
   },
   {
    "duration": 14,
    "start_time": "2022-06-24T08:04:52.459Z"
   },
   {
    "duration": 14,
    "start_time": "2022-06-24T08:04:52.475Z"
   },
   {
    "duration": 150,
    "start_time": "2022-06-24T08:04:52.492Z"
   },
   {
    "duration": 526,
    "start_time": "2022-06-24T08:04:52.644Z"
   },
   {
    "duration": 4,
    "start_time": "2022-06-24T08:04:53.172Z"
   },
   {
    "duration": 21,
    "start_time": "2022-06-24T08:04:53.177Z"
   },
   {
    "duration": 1675,
    "start_time": "2022-06-24T08:04:53.200Z"
   },
   {
    "duration": 20,
    "start_time": "2022-06-24T08:04:54.877Z"
   },
   {
    "duration": 14,
    "start_time": "2022-06-24T08:04:54.899Z"
   },
   {
    "duration": 8,
    "start_time": "2022-06-24T08:04:54.914Z"
   },
   {
    "duration": 6,
    "start_time": "2022-06-24T08:04:54.924Z"
   },
   {
    "duration": 13,
    "start_time": "2022-06-24T08:18:07.650Z"
   },
   {
    "duration": 6,
    "start_time": "2022-06-24T08:18:34.775Z"
   },
   {
    "duration": 835,
    "start_time": "2022-06-24T08:18:34.783Z"
   },
   {
    "duration": 17,
    "start_time": "2022-06-24T08:18:35.620Z"
   },
   {
    "duration": 21,
    "start_time": "2022-06-24T08:18:35.641Z"
   },
   {
    "duration": 37,
    "start_time": "2022-06-24T08:18:35.664Z"
   },
   {
    "duration": 30,
    "start_time": "2022-06-24T08:18:35.703Z"
   },
   {
    "duration": 29,
    "start_time": "2022-06-24T08:18:35.735Z"
   },
   {
    "duration": 30,
    "start_time": "2022-06-24T08:18:35.768Z"
   },
   {
    "duration": 21,
    "start_time": "2022-06-24T08:18:35.800Z"
   },
   {
    "duration": 87,
    "start_time": "2022-06-24T08:18:35.825Z"
   },
   {
    "duration": 34,
    "start_time": "2022-06-24T08:18:35.914Z"
   },
   {
    "duration": 16,
    "start_time": "2022-06-24T08:18:35.950Z"
   },
   {
    "duration": 22,
    "start_time": "2022-06-24T08:18:35.975Z"
   },
   {
    "duration": 178,
    "start_time": "2022-06-24T08:18:36.000Z"
   },
   {
    "duration": 659,
    "start_time": "2022-06-24T08:18:36.183Z"
   },
   {
    "duration": 3,
    "start_time": "2022-06-24T08:18:36.844Z"
   },
   {
    "duration": 67,
    "start_time": "2022-06-24T08:18:36.849Z"
   },
   {
    "duration": 2049,
    "start_time": "2022-06-24T08:18:36.918Z"
   },
   {
    "duration": 26,
    "start_time": "2022-06-24T08:18:38.976Z"
   },
   {
    "duration": 19,
    "start_time": "2022-06-24T08:18:39.004Z"
   },
   {
    "duration": 19,
    "start_time": "2022-06-24T08:18:39.025Z"
   },
   {
    "duration": 11,
    "start_time": "2022-06-24T08:18:39.045Z"
   },
   {
    "duration": 59,
    "start_time": "2022-06-24T08:18:39.058Z"
   },
   {
    "duration": 4,
    "start_time": "2022-06-24T08:19:34.944Z"
   },
   {
    "duration": 747,
    "start_time": "2022-06-24T08:19:34.951Z"
   },
   {
    "duration": 17,
    "start_time": "2022-06-24T08:19:35.700Z"
   },
   {
    "duration": 8,
    "start_time": "2022-06-24T08:19:35.718Z"
   },
   {
    "duration": 7,
    "start_time": "2022-06-24T08:19:35.728Z"
   },
   {
    "duration": 31,
    "start_time": "2022-06-24T08:19:35.737Z"
   },
   {
    "duration": 17,
    "start_time": "2022-06-24T08:19:35.775Z"
   },
   {
    "duration": 11,
    "start_time": "2022-06-24T08:19:35.794Z"
   },
   {
    "duration": 9,
    "start_time": "2022-06-24T08:19:35.807Z"
   },
   {
    "duration": 13,
    "start_time": "2022-06-24T08:19:35.818Z"
   },
   {
    "duration": 19,
    "start_time": "2022-06-24T08:19:35.832Z"
   },
   {
    "duration": 25,
    "start_time": "2022-06-24T08:19:35.853Z"
   },
   {
    "duration": 16,
    "start_time": "2022-06-24T08:19:35.882Z"
   },
   {
    "duration": 173,
    "start_time": "2022-06-24T08:19:35.901Z"
   },
   {
    "duration": 476,
    "start_time": "2022-06-24T08:19:36.079Z"
   },
   {
    "duration": 5,
    "start_time": "2022-06-24T08:19:36.556Z"
   },
   {
    "duration": 27,
    "start_time": "2022-06-24T08:19:36.565Z"
   },
   {
    "duration": 1712,
    "start_time": "2022-06-24T08:19:36.594Z"
   },
   {
    "duration": 18,
    "start_time": "2022-06-24T08:19:38.308Z"
   },
   {
    "duration": 32,
    "start_time": "2022-06-24T08:19:38.328Z"
   },
   {
    "duration": 12,
    "start_time": "2022-06-24T08:19:38.368Z"
   },
   {
    "duration": 28,
    "start_time": "2022-06-24T08:19:38.382Z"
   },
   {
    "duration": 25,
    "start_time": "2022-06-24T08:19:38.411Z"
   },
   {
    "duration": 3,
    "start_time": "2022-06-24T08:22:33.299Z"
   },
   {
    "duration": 5,
    "start_time": "2022-06-24T08:30:22.524Z"
   },
   {
    "duration": 32,
    "start_time": "2022-06-24T08:30:32.395Z"
   },
   {
    "duration": 6,
    "start_time": "2022-06-24T08:31:30.681Z"
   },
   {
    "duration": 20,
    "start_time": "2022-06-24T08:31:53.852Z"
   },
   {
    "duration": 23,
    "start_time": "2022-06-24T08:32:10.477Z"
   },
   {
    "duration": 9,
    "start_time": "2022-06-24T08:32:50.941Z"
   },
   {
    "duration": 12,
    "start_time": "2022-06-24T08:33:27.176Z"
   },
   {
    "duration": 11,
    "start_time": "2022-06-24T08:33:35.586Z"
   },
   {
    "duration": 13,
    "start_time": "2022-06-24T08:33:39.494Z"
   },
   {
    "duration": 21,
    "start_time": "2022-06-24T08:34:04.889Z"
   },
   {
    "duration": 33,
    "start_time": "2022-06-24T08:37:15.594Z"
   },
   {
    "duration": 27,
    "start_time": "2022-06-24T08:39:23.812Z"
   },
   {
    "duration": 27334,
    "start_time": "2022-06-24T08:39:30.736Z"
   },
   {
    "duration": 48,
    "start_time": "2022-06-24T08:43:15.417Z"
   },
   {
    "duration": 8,
    "start_time": "2022-06-24T08:44:26.277Z"
   },
   {
    "duration": 24,
    "start_time": "2022-06-24T08:44:30.175Z"
   },
   {
    "duration": 9,
    "start_time": "2022-06-24T08:47:22.274Z"
   },
   {
    "duration": 4,
    "start_time": "2022-06-24T08:47:26.124Z"
   },
   {
    "duration": 752,
    "start_time": "2022-06-24T08:47:26.131Z"
   },
   {
    "duration": 17,
    "start_time": "2022-06-24T08:47:26.885Z"
   },
   {
    "duration": 6,
    "start_time": "2022-06-24T08:47:26.904Z"
   },
   {
    "duration": 11,
    "start_time": "2022-06-24T08:47:26.912Z"
   },
   {
    "duration": 22,
    "start_time": "2022-06-24T08:47:26.925Z"
   },
   {
    "duration": 25,
    "start_time": "2022-06-24T08:47:26.948Z"
   },
   {
    "duration": 4,
    "start_time": "2022-06-24T08:47:26.975Z"
   },
   {
    "duration": 17,
    "start_time": "2022-06-24T08:47:26.981Z"
   },
   {
    "duration": 30,
    "start_time": "2022-06-24T08:47:27.000Z"
   },
   {
    "duration": 41,
    "start_time": "2022-06-24T08:47:27.031Z"
   },
   {
    "duration": 13,
    "start_time": "2022-06-24T08:47:27.074Z"
   },
   {
    "duration": 21,
    "start_time": "2022-06-24T08:47:27.089Z"
   },
   {
    "duration": 161,
    "start_time": "2022-06-24T08:47:27.112Z"
   },
   {
    "duration": 592,
    "start_time": "2022-06-24T08:47:27.276Z"
   },
   {
    "duration": 4,
    "start_time": "2022-06-24T08:47:27.869Z"
   },
   {
    "duration": 19,
    "start_time": "2022-06-24T08:47:27.875Z"
   },
   {
    "duration": 1804,
    "start_time": "2022-06-24T08:47:27.896Z"
   },
   {
    "duration": 20,
    "start_time": "2022-06-24T08:47:29.702Z"
   },
   {
    "duration": 13,
    "start_time": "2022-06-24T08:47:29.724Z"
   },
   {
    "duration": 31,
    "start_time": "2022-06-24T08:47:29.739Z"
   },
   {
    "duration": 11,
    "start_time": "2022-06-24T08:47:29.773Z"
   },
   {
    "duration": 12,
    "start_time": "2022-06-24T08:47:29.786Z"
   },
   {
    "duration": 50,
    "start_time": "2022-06-24T08:47:29.801Z"
   },
   {
    "duration": 0,
    "start_time": "2022-06-24T08:47:29.853Z"
   },
   {
    "duration": 2378,
    "start_time": "2022-06-24T08:47:37.767Z"
   },
   {
    "duration": 63633,
    "start_time": "2022-06-24T08:47:50.797Z"
   },
   {
    "duration": 3,
    "start_time": "2022-06-24T08:53:17.988Z"
   },
   {
    "duration": 133784,
    "start_time": "2022-06-24T08:53:43.745Z"
   },
   {
    "duration": 1330,
    "start_time": "2022-06-24T08:56:08.901Z"
   },
   {
    "duration": 757,
    "start_time": "2022-06-24T08:56:10.233Z"
   },
   {
    "duration": 17,
    "start_time": "2022-06-24T08:56:10.991Z"
   },
   {
    "duration": 8,
    "start_time": "2022-06-24T08:56:11.011Z"
   },
   {
    "duration": 5,
    "start_time": "2022-06-24T08:56:11.020Z"
   },
   {
    "duration": 32,
    "start_time": "2022-06-24T08:56:11.027Z"
   },
   {
    "duration": 7,
    "start_time": "2022-06-24T08:56:11.061Z"
   },
   {
    "duration": 6,
    "start_time": "2022-06-24T08:56:11.070Z"
   },
   {
    "duration": 6,
    "start_time": "2022-06-24T08:56:11.078Z"
   },
   {
    "duration": 19,
    "start_time": "2022-06-24T08:56:11.087Z"
   },
   {
    "duration": 18,
    "start_time": "2022-06-24T08:56:11.108Z"
   },
   {
    "duration": 7,
    "start_time": "2022-06-24T08:56:11.128Z"
   },
   {
    "duration": 32,
    "start_time": "2022-06-24T08:56:11.136Z"
   },
   {
    "duration": 177,
    "start_time": "2022-06-24T08:56:11.170Z"
   },
   {
    "duration": 475,
    "start_time": "2022-06-24T08:56:11.348Z"
   },
   {
    "duration": 2,
    "start_time": "2022-06-24T08:56:11.825Z"
   },
   {
    "duration": 15,
    "start_time": "2022-06-24T08:56:11.829Z"
   },
   {
    "duration": 1855,
    "start_time": "2022-06-24T08:56:11.845Z"
   },
   {
    "duration": 23,
    "start_time": "2022-06-24T08:56:13.702Z"
   },
   {
    "duration": 34,
    "start_time": "2022-06-24T08:56:13.726Z"
   },
   {
    "duration": 21,
    "start_time": "2022-06-24T08:56:13.762Z"
   },
   {
    "duration": 24,
    "start_time": "2022-06-24T08:56:13.785Z"
   },
   {
    "duration": 35,
    "start_time": "2022-06-24T08:56:13.811Z"
   },
   {
    "duration": 64052,
    "start_time": "2022-06-24T08:56:13.848Z"
   },
   {
    "duration": 0,
    "start_time": "2022-06-24T08:57:17.902Z"
   },
   {
    "duration": 0,
    "start_time": "2022-06-24T08:57:17.903Z"
   },
   {
    "duration": 0,
    "start_time": "2022-06-24T08:57:17.904Z"
   },
   {
    "duration": 12,
    "start_time": "2022-06-24T08:59:08.051Z"
   },
   {
    "duration": 3,
    "start_time": "2022-06-24T08:59:12.246Z"
   },
   {
    "duration": 777,
    "start_time": "2022-06-24T08:59:12.251Z"
   },
   {
    "duration": 18,
    "start_time": "2022-06-24T08:59:13.030Z"
   },
   {
    "duration": 6,
    "start_time": "2022-06-24T08:59:13.058Z"
   },
   {
    "duration": 7,
    "start_time": "2022-06-24T08:59:13.067Z"
   },
   {
    "duration": 23,
    "start_time": "2022-06-24T08:59:13.077Z"
   },
   {
    "duration": 7,
    "start_time": "2022-06-24T08:59:13.102Z"
   },
   {
    "duration": 7,
    "start_time": "2022-06-24T08:59:13.111Z"
   },
   {
    "duration": 7,
    "start_time": "2022-06-24T08:59:13.120Z"
   },
   {
    "duration": 12,
    "start_time": "2022-06-24T08:59:13.128Z"
   },
   {
    "duration": 31,
    "start_time": "2022-06-24T08:59:13.141Z"
   },
   {
    "duration": 8,
    "start_time": "2022-06-24T08:59:13.173Z"
   },
   {
    "duration": 11,
    "start_time": "2022-06-24T08:59:13.183Z"
   },
   {
    "duration": 167,
    "start_time": "2022-06-24T08:59:13.196Z"
   },
   {
    "duration": 451,
    "start_time": "2022-06-24T08:59:13.365Z"
   },
   {
    "duration": 3,
    "start_time": "2022-06-24T08:59:13.818Z"
   },
   {
    "duration": 19,
    "start_time": "2022-06-24T08:59:13.824Z"
   },
   {
    "duration": 1638,
    "start_time": "2022-06-24T08:59:13.844Z"
   },
   {
    "duration": 21,
    "start_time": "2022-06-24T08:59:15.484Z"
   },
   {
    "duration": 13,
    "start_time": "2022-06-24T08:59:15.507Z"
   },
   {
    "duration": 3,
    "start_time": "2022-06-24T08:59:15.522Z"
   },
   {
    "duration": 7,
    "start_time": "2022-06-24T08:59:15.526Z"
   },
   {
    "duration": 26,
    "start_time": "2022-06-24T08:59:15.534Z"
   },
   {
    "duration": 13,
    "start_time": "2022-06-24T08:59:15.562Z"
   },
   {
    "duration": 75267,
    "start_time": "2022-06-24T08:59:15.577Z"
   },
   {
    "duration": 0,
    "start_time": "2022-06-24T09:00:30.845Z"
   },
   {
    "duration": 0,
    "start_time": "2022-06-24T09:00:30.847Z"
   },
   {
    "duration": 0,
    "start_time": "2022-06-24T09:00:30.848Z"
   },
   {
    "duration": 5,
    "start_time": "2022-06-24T09:02:38.548Z"
   },
   {
    "duration": 9,
    "start_time": "2022-06-24T09:02:41.438Z"
   },
   {
    "duration": 64305,
    "start_time": "2022-06-24T09:02:42.930Z"
   },
   {
    "duration": 4,
    "start_time": "2022-06-24T09:04:13.928Z"
   },
   {
    "duration": 0,
    "start_time": "2022-06-24T09:06:35.118Z"
   },
   {
    "duration": 0,
    "start_time": "2022-06-24T09:06:35.120Z"
   },
   {
    "duration": 0,
    "start_time": "2022-06-24T09:06:35.121Z"
   },
   {
    "duration": 0,
    "start_time": "2022-06-24T09:06:35.122Z"
   },
   {
    "duration": 3217,
    "start_time": "2022-06-24T09:06:40.384Z"
   },
   {
    "duration": 0,
    "start_time": "2022-06-24T09:06:43.603Z"
   },
   {
    "duration": 0,
    "start_time": "2022-06-24T09:06:43.604Z"
   },
   {
    "duration": 0,
    "start_time": "2022-06-24T09:06:43.605Z"
   },
   {
    "duration": 2461,
    "start_time": "2022-06-24T09:06:50.642Z"
   },
   {
    "duration": 134938,
    "start_time": "2022-06-24T09:06:53.105Z"
   },
   {
    "duration": 30,
    "start_time": "2022-06-24T09:09:08.045Z"
   },
   {
    "duration": 25,
    "start_time": "2022-06-24T09:09:43.521Z"
   },
   {
    "duration": 12,
    "start_time": "2022-06-24T09:10:05.909Z"
   },
   {
    "duration": 348,
    "start_time": "2022-06-24T09:10:16.922Z"
   },
   {
    "duration": 4,
    "start_time": "2022-06-24T09:10:34.856Z"
   },
   {
    "duration": 821,
    "start_time": "2022-06-24T09:10:34.875Z"
   },
   {
    "duration": 16,
    "start_time": "2022-06-24T09:10:35.698Z"
   },
   {
    "duration": 7,
    "start_time": "2022-06-24T09:10:35.716Z"
   },
   {
    "duration": 9,
    "start_time": "2022-06-24T09:10:35.725Z"
   },
   {
    "duration": 33,
    "start_time": "2022-06-24T09:10:35.736Z"
   },
   {
    "duration": 8,
    "start_time": "2022-06-24T09:10:35.772Z"
   },
   {
    "duration": 10,
    "start_time": "2022-06-24T09:10:35.782Z"
   },
   {
    "duration": 7,
    "start_time": "2022-06-24T09:10:35.793Z"
   },
   {
    "duration": 10,
    "start_time": "2022-06-24T09:10:35.802Z"
   },
   {
    "duration": 18,
    "start_time": "2022-06-24T09:10:35.813Z"
   },
   {
    "duration": 10,
    "start_time": "2022-06-24T09:10:35.833Z"
   },
   {
    "duration": 29,
    "start_time": "2022-06-24T09:10:35.845Z"
   },
   {
    "duration": 168,
    "start_time": "2022-06-24T09:10:35.877Z"
   },
   {
    "duration": 554,
    "start_time": "2022-06-24T09:10:36.048Z"
   },
   {
    "duration": 3,
    "start_time": "2022-06-24T09:10:36.603Z"
   },
   {
    "duration": 12,
    "start_time": "2022-06-24T09:10:36.608Z"
   },
   {
    "duration": 1767,
    "start_time": "2022-06-24T09:10:36.622Z"
   },
   {
    "duration": 21,
    "start_time": "2022-06-24T09:10:38.391Z"
   },
   {
    "duration": 14,
    "start_time": "2022-06-24T09:10:38.414Z"
   },
   {
    "duration": 6,
    "start_time": "2022-06-24T09:10:38.430Z"
   },
   {
    "duration": 37,
    "start_time": "2022-06-24T09:10:38.438Z"
   },
   {
    "duration": 15,
    "start_time": "2022-06-24T09:10:38.477Z"
   },
   {
    "duration": 15,
    "start_time": "2022-06-24T09:10:38.494Z"
   },
   {
    "duration": 6,
    "start_time": "2022-06-24T09:10:38.510Z"
   },
   {
    "duration": 2517,
    "start_time": "2022-06-24T09:10:38.517Z"
   },
   {
    "duration": 0,
    "start_time": "2022-06-24T09:10:41.035Z"
   },
   {
    "duration": 0,
    "start_time": "2022-06-24T09:10:41.037Z"
   },
   {
    "duration": 2479,
    "start_time": "2022-06-24T09:10:53.173Z"
   },
   {
    "duration": 19,
    "start_time": "2022-06-24T09:13:15.821Z"
   },
   {
    "duration": 10,
    "start_time": "2022-06-24T09:13:41.141Z"
   },
   {
    "duration": 2384,
    "start_time": "2022-06-24T09:13:44.313Z"
   },
   {
    "duration": 2418,
    "start_time": "2022-06-24T09:14:27.780Z"
   },
   {
    "duration": 12,
    "start_time": "2022-06-24T09:14:56.942Z"
   },
   {
    "duration": 2440,
    "start_time": "2022-06-24T09:14:58.726Z"
   },
   {
    "duration": 2400,
    "start_time": "2022-06-24T09:15:12.893Z"
   },
   {
    "duration": 15,
    "start_time": "2022-06-24T09:15:17.197Z"
   },
   {
    "duration": 529,
    "start_time": "2022-06-24T09:16:51.939Z"
   },
   {
    "duration": 7,
    "start_time": "2022-06-24T09:23:59.810Z"
   },
   {
    "duration": 416,
    "start_time": "2022-06-24T09:24:09.887Z"
   },
   {
    "duration": 10,
    "start_time": "2022-06-24T09:25:42.620Z"
   },
   {
    "duration": 17,
    "start_time": "2022-06-24T09:26:26.309Z"
   },
   {
    "duration": 4,
    "start_time": "2022-06-24T09:26:39.756Z"
   },
   {
    "duration": 688,
    "start_time": "2022-06-24T09:26:39.762Z"
   },
   {
    "duration": 20,
    "start_time": "2022-06-24T09:26:40.452Z"
   },
   {
    "duration": 8,
    "start_time": "2022-06-24T09:26:40.473Z"
   },
   {
    "duration": 5,
    "start_time": "2022-06-24T09:26:40.483Z"
   },
   {
    "duration": 9,
    "start_time": "2022-06-24T09:26:40.490Z"
   },
   {
    "duration": 11,
    "start_time": "2022-06-24T09:26:40.500Z"
   },
   {
    "duration": 6,
    "start_time": "2022-06-24T09:26:40.512Z"
   },
   {
    "duration": 8,
    "start_time": "2022-06-24T09:26:40.520Z"
   },
   {
    "duration": 37,
    "start_time": "2022-06-24T09:26:40.529Z"
   },
   {
    "duration": 17,
    "start_time": "2022-06-24T09:26:40.568Z"
   },
   {
    "duration": 8,
    "start_time": "2022-06-24T09:26:40.586Z"
   },
   {
    "duration": 11,
    "start_time": "2022-06-24T09:26:40.596Z"
   },
   {
    "duration": 183,
    "start_time": "2022-06-24T09:26:40.610Z"
   },
   {
    "duration": 434,
    "start_time": "2022-06-24T09:26:40.795Z"
   },
   {
    "duration": 4,
    "start_time": "2022-06-24T09:26:41.230Z"
   },
   {
    "duration": 12,
    "start_time": "2022-06-24T09:26:41.235Z"
   },
   {
    "duration": 1732,
    "start_time": "2022-06-24T09:26:41.258Z"
   },
   {
    "duration": 144,
    "start_time": "2022-06-24T09:26:42.992Z"
   },
   {
    "duration": 22,
    "start_time": "2022-06-24T09:26:43.137Z"
   },
   {
    "duration": 4,
    "start_time": "2022-06-24T09:26:43.160Z"
   },
   {
    "duration": 18,
    "start_time": "2022-06-24T09:26:43.166Z"
   },
   {
    "duration": 0,
    "start_time": "2022-06-24T09:26:43.185Z"
   },
   {
    "duration": 0,
    "start_time": "2022-06-24T09:26:43.186Z"
   },
   {
    "duration": 1,
    "start_time": "2022-06-24T09:26:43.187Z"
   },
   {
    "duration": 0,
    "start_time": "2022-06-24T09:26:43.189Z"
   },
   {
    "duration": 0,
    "start_time": "2022-06-24T09:26:43.190Z"
   },
   {
    "duration": 0,
    "start_time": "2022-06-24T09:26:43.191Z"
   },
   {
    "duration": 0,
    "start_time": "2022-06-24T09:26:43.192Z"
   },
   {
    "duration": 11,
    "start_time": "2022-06-24T09:27:06.541Z"
   },
   {
    "duration": 7,
    "start_time": "2022-06-24T09:27:10.672Z"
   },
   {
    "duration": 11,
    "start_time": "2022-06-24T09:27:19.656Z"
   },
   {
    "duration": 5,
    "start_time": "2022-06-24T09:27:20.725Z"
   },
   {
    "duration": 2400,
    "start_time": "2022-06-24T09:27:25.236Z"
   },
   {
    "duration": 8,
    "start_time": "2022-06-24T09:27:29.669Z"
   },
   {
    "duration": 5,
    "start_time": "2022-06-24T09:27:33.127Z"
   },
   {
    "duration": 2,
    "start_time": "2022-06-24T09:27:55.951Z"
   },
   {
    "duration": 8,
    "start_time": "2022-06-24T09:28:07.169Z"
   },
   {
    "duration": 4,
    "start_time": "2022-06-24T09:28:42.456Z"
   },
   {
    "duration": 18,
    "start_time": "2022-06-24T09:29:26.888Z"
   },
   {
    "duration": 74898,
    "start_time": "2022-06-24T09:30:02.176Z"
   },
   {
    "duration": 11,
    "start_time": "2022-06-24T09:34:07.849Z"
   },
   {
    "duration": 4,
    "start_time": "2022-06-24T09:36:24.039Z"
   },
   {
    "duration": 4,
    "start_time": "2022-06-24T09:36:56.151Z"
   },
   {
    "duration": 707,
    "start_time": "2022-06-24T09:36:56.157Z"
   },
   {
    "duration": 16,
    "start_time": "2022-06-24T09:36:56.866Z"
   },
   {
    "duration": 7,
    "start_time": "2022-06-24T09:36:56.884Z"
   },
   {
    "duration": 10,
    "start_time": "2022-06-24T09:36:56.893Z"
   },
   {
    "duration": 11,
    "start_time": "2022-06-24T09:36:56.905Z"
   },
   {
    "duration": 13,
    "start_time": "2022-06-24T09:36:56.917Z"
   },
   {
    "duration": 3,
    "start_time": "2022-06-24T09:36:56.959Z"
   },
   {
    "duration": 10,
    "start_time": "2022-06-24T09:36:56.964Z"
   },
   {
    "duration": 9,
    "start_time": "2022-06-24T09:36:56.976Z"
   },
   {
    "duration": 17,
    "start_time": "2022-06-24T09:36:56.987Z"
   },
   {
    "duration": 8,
    "start_time": "2022-06-24T09:36:57.006Z"
   },
   {
    "duration": 13,
    "start_time": "2022-06-24T09:36:57.016Z"
   },
   {
    "duration": 147,
    "start_time": "2022-06-24T09:36:57.059Z"
   },
   {
    "duration": 521,
    "start_time": "2022-06-24T09:36:57.207Z"
   },
   {
    "duration": 3,
    "start_time": "2022-06-24T09:36:57.730Z"
   },
   {
    "duration": 24,
    "start_time": "2022-06-24T09:36:57.735Z"
   },
   {
    "duration": 1677,
    "start_time": "2022-06-24T09:36:57.760Z"
   },
   {
    "duration": 31,
    "start_time": "2022-06-24T09:36:59.439Z"
   },
   {
    "duration": 16,
    "start_time": "2022-06-24T09:36:59.472Z"
   },
   {
    "duration": 11,
    "start_time": "2022-06-24T09:36:59.489Z"
   },
   {
    "duration": 20,
    "start_time": "2022-06-24T09:36:59.502Z"
   },
   {
    "duration": 0,
    "start_time": "2022-06-24T09:36:59.523Z"
   },
   {
    "duration": 0,
    "start_time": "2022-06-24T09:36:59.525Z"
   },
   {
    "duration": 0,
    "start_time": "2022-06-24T09:36:59.526Z"
   },
   {
    "duration": 0,
    "start_time": "2022-06-24T09:36:59.528Z"
   },
   {
    "duration": 0,
    "start_time": "2022-06-24T09:36:59.530Z"
   },
   {
    "duration": 0,
    "start_time": "2022-06-24T09:36:59.531Z"
   },
   {
    "duration": 0,
    "start_time": "2022-06-24T09:36:59.532Z"
   },
   {
    "duration": 0,
    "start_time": "2022-06-24T09:36:59.534Z"
   },
   {
    "duration": 0,
    "start_time": "2022-06-24T09:36:59.535Z"
   },
   {
    "duration": 1952,
    "start_time": "2022-06-24T09:37:36.908Z"
   },
   {
    "duration": 6,
    "start_time": "2022-06-24T09:39:20.973Z"
   },
   {
    "duration": 4,
    "start_time": "2022-06-24T09:40:46.865Z"
   },
   {
    "duration": 312,
    "start_time": "2022-06-24T09:41:20.161Z"
   },
   {
    "duration": 1290,
    "start_time": "2022-06-24T09:41:39.042Z"
   },
   {
    "duration": 717,
    "start_time": "2022-06-24T09:41:40.334Z"
   },
   {
    "duration": 20,
    "start_time": "2022-06-24T09:41:41.053Z"
   },
   {
    "duration": 10,
    "start_time": "2022-06-24T09:41:41.075Z"
   },
   {
    "duration": 5,
    "start_time": "2022-06-24T09:41:41.087Z"
   },
   {
    "duration": 10,
    "start_time": "2022-06-24T09:41:41.093Z"
   },
   {
    "duration": 7,
    "start_time": "2022-06-24T09:41:41.105Z"
   },
   {
    "duration": 7,
    "start_time": "2022-06-24T09:41:41.114Z"
   },
   {
    "duration": 37,
    "start_time": "2022-06-24T09:41:41.122Z"
   },
   {
    "duration": 17,
    "start_time": "2022-06-24T09:41:41.162Z"
   },
   {
    "duration": 17,
    "start_time": "2022-06-24T09:41:41.181Z"
   },
   {
    "duration": 7,
    "start_time": "2022-06-24T09:41:41.200Z"
   },
   {
    "duration": 13,
    "start_time": "2022-06-24T09:41:41.209Z"
   },
   {
    "duration": 199,
    "start_time": "2022-06-24T09:41:41.224Z"
   },
   {
    "duration": 442,
    "start_time": "2022-06-24T09:41:41.425Z"
   },
   {
    "duration": 3,
    "start_time": "2022-06-24T09:41:41.869Z"
   },
   {
    "duration": 17,
    "start_time": "2022-06-24T09:41:41.874Z"
   },
   {
    "duration": 1839,
    "start_time": "2022-06-24T09:41:41.893Z"
   },
   {
    "duration": 31,
    "start_time": "2022-06-24T09:41:43.734Z"
   },
   {
    "duration": 16,
    "start_time": "2022-06-24T09:41:43.767Z"
   },
   {
    "duration": 8,
    "start_time": "2022-06-24T09:41:43.785Z"
   },
   {
    "duration": 6,
    "start_time": "2022-06-24T09:41:43.795Z"
   },
   {
    "duration": 21,
    "start_time": "2022-06-24T09:41:43.802Z"
   },
   {
    "duration": 12,
    "start_time": "2022-06-24T09:41:43.825Z"
   },
   {
    "duration": 7,
    "start_time": "2022-06-24T09:41:43.838Z"
   },
   {
    "duration": 824,
    "start_time": "2022-06-24T09:41:43.846Z"
   },
   {
    "duration": 101,
    "start_time": "2022-06-24T09:41:44.763Z"
   },
   {
    "duration": 92,
    "start_time": "2022-06-24T09:41:44.869Z"
   },
   {
    "duration": 2226,
    "start_time": "2022-06-24T09:45:02.828Z"
   },
   {
    "duration": 11,
    "start_time": "2022-06-24T09:45:23.437Z"
   },
   {
    "duration": 4,
    "start_time": "2022-06-24T09:45:24.055Z"
   },
   {
    "duration": 1127,
    "start_time": "2022-06-24T09:45:25.836Z"
   },
   {
    "duration": 111,
    "start_time": "2022-06-24T09:45:37.849Z"
   },
   {
    "duration": 8,
    "start_time": "2022-06-24T09:45:38.582Z"
   },
   {
    "duration": 4,
    "start_time": "2022-06-24T09:45:41.934Z"
   },
   {
    "duration": 1472,
    "start_time": "2022-06-24T09:47:37.488Z"
   },
   {
    "duration": 8714,
    "start_time": "2022-06-24T09:48:34.575Z"
   },
   {
    "duration": 514142,
    "start_time": "2022-06-24T09:49:52.543Z"
   },
   {
    "duration": 8663,
    "start_time": "2022-06-24T10:01:48.387Z"
   },
   {
    "duration": 117,
    "start_time": "2022-06-24T10:02:02.986Z"
   },
   {
    "duration": 1279,
    "start_time": "2022-06-24T10:02:08.384Z"
   },
   {
    "duration": 2337,
    "start_time": "2022-06-24T10:07:11.335Z"
   },
   {
    "duration": 2336,
    "start_time": "2022-06-24T10:07:27.475Z"
   },
   {
    "duration": 3,
    "start_time": "2022-06-24T10:10:48.946Z"
   },
   {
    "duration": 4,
    "start_time": "2022-06-24T10:11:08.694Z"
   },
   {
    "duration": 15,
    "start_time": "2022-06-24T10:11:30.208Z"
   },
   {
    "duration": 62310,
    "start_time": "2022-06-24T10:11:50.480Z"
   },
   {
    "duration": 2,
    "start_time": "2022-06-24T10:14:16.497Z"
   },
   {
    "duration": 1510,
    "start_time": "2022-06-24T10:14:21.852Z"
   },
   {
    "duration": 8647,
    "start_time": "2022-06-24T10:14:27.834Z"
   },
   {
    "duration": 2438,
    "start_time": "2022-06-24T10:14:54.347Z"
   },
   {
    "duration": 62931,
    "start_time": "2022-06-24T10:15:01.247Z"
   },
   {
    "duration": 15790,
    "start_time": "2022-06-24T10:16:41.769Z"
   },
   {
    "duration": 55052,
    "start_time": "2022-06-24T10:18:20.183Z"
   },
   {
    "duration": 33447,
    "start_time": "2022-06-24T10:19:36.371Z"
   },
   {
    "duration": 55448,
    "start_time": "2022-06-24T10:20:26.501Z"
   },
   {
    "duration": 55530,
    "start_time": "2022-06-24T10:21:44.202Z"
   },
   {
    "duration": 165411,
    "start_time": "2022-06-24T10:23:43.526Z"
   },
   {
    "duration": 3,
    "start_time": "2022-06-24T10:30:49.642Z"
   },
   {
    "duration": 743,
    "start_time": "2022-06-24T10:30:49.647Z"
   },
   {
    "duration": 15,
    "start_time": "2022-06-24T10:30:50.392Z"
   },
   {
    "duration": 16,
    "start_time": "2022-06-24T10:30:50.409Z"
   },
   {
    "duration": 37,
    "start_time": "2022-06-24T10:30:50.427Z"
   },
   {
    "duration": 20,
    "start_time": "2022-06-24T10:30:50.465Z"
   },
   {
    "duration": 21,
    "start_time": "2022-06-24T10:30:50.487Z"
   },
   {
    "duration": 25,
    "start_time": "2022-06-24T10:30:50.509Z"
   },
   {
    "duration": 30,
    "start_time": "2022-06-24T10:30:50.535Z"
   },
   {
    "duration": 13,
    "start_time": "2022-06-24T10:30:50.566Z"
   },
   {
    "duration": 23,
    "start_time": "2022-06-24T10:30:50.580Z"
   },
   {
    "duration": 21,
    "start_time": "2022-06-24T10:30:50.605Z"
   },
   {
    "duration": 27,
    "start_time": "2022-06-24T10:30:50.627Z"
   },
   {
    "duration": 167,
    "start_time": "2022-06-24T10:30:50.658Z"
   },
   {
    "duration": 444,
    "start_time": "2022-06-24T10:30:50.827Z"
   },
   {
    "duration": 3,
    "start_time": "2022-06-24T10:30:51.273Z"
   },
   {
    "duration": 15,
    "start_time": "2022-06-24T10:30:51.278Z"
   },
   {
    "duration": 1722,
    "start_time": "2022-06-24T10:30:51.295Z"
   },
   {
    "duration": 25,
    "start_time": "2022-06-24T10:30:53.019Z"
   },
   {
    "duration": 27,
    "start_time": "2022-06-24T10:30:53.046Z"
   },
   {
    "duration": 7,
    "start_time": "2022-06-24T10:30:53.075Z"
   },
   {
    "duration": 5,
    "start_time": "2022-06-24T10:30:53.084Z"
   },
   {
    "duration": 12,
    "start_time": "2022-06-24T10:30:53.091Z"
   },
   {
    "duration": 9,
    "start_time": "2022-06-24T10:30:53.104Z"
   },
   {
    "duration": 1244,
    "start_time": "2022-06-24T10:30:53.115Z"
   },
   {
    "duration": 8664,
    "start_time": "2022-06-24T10:30:54.361Z"
   },
   {
    "duration": 3,
    "start_time": "2022-06-24T10:31:03.026Z"
   },
   {
    "duration": 2355,
    "start_time": "2022-06-24T10:31:03.030Z"
   },
   {
    "duration": 1209,
    "start_time": "2022-06-24T11:04:07.688Z"
   },
   {
    "duration": 783,
    "start_time": "2022-06-24T11:04:08.901Z"
   },
   {
    "duration": 17,
    "start_time": "2022-06-24T11:04:09.686Z"
   },
   {
    "duration": 8,
    "start_time": "2022-06-24T11:04:09.705Z"
   },
   {
    "duration": 10,
    "start_time": "2022-06-24T11:04:09.715Z"
   },
   {
    "duration": 9,
    "start_time": "2022-06-24T11:04:09.727Z"
   },
   {
    "duration": 23,
    "start_time": "2022-06-24T11:04:09.738Z"
   },
   {
    "duration": 7,
    "start_time": "2022-06-24T11:04:09.762Z"
   },
   {
    "duration": 12,
    "start_time": "2022-06-24T11:04:09.770Z"
   },
   {
    "duration": 11,
    "start_time": "2022-06-24T11:04:09.784Z"
   },
   {
    "duration": 18,
    "start_time": "2022-06-24T11:04:09.796Z"
   },
   {
    "duration": 7,
    "start_time": "2022-06-24T11:04:09.816Z"
   },
   {
    "duration": 13,
    "start_time": "2022-06-24T11:04:09.824Z"
   },
   {
    "duration": 158,
    "start_time": "2022-06-24T11:04:09.859Z"
   },
   {
    "duration": 424,
    "start_time": "2022-06-24T11:04:10.019Z"
   },
   {
    "duration": 3,
    "start_time": "2022-06-24T11:04:10.445Z"
   },
   {
    "duration": 19,
    "start_time": "2022-06-24T11:04:10.449Z"
   },
   {
    "duration": 1716,
    "start_time": "2022-06-24T11:04:10.469Z"
   },
   {
    "duration": 22,
    "start_time": "2022-06-24T11:04:12.187Z"
   },
   {
    "duration": 14,
    "start_time": "2022-06-24T11:04:12.210Z"
   },
   {
    "duration": 5,
    "start_time": "2022-06-24T11:04:12.226Z"
   },
   {
    "duration": 5,
    "start_time": "2022-06-24T11:04:12.232Z"
   },
   {
    "duration": 29,
    "start_time": "2022-06-24T11:04:12.239Z"
   },
   {
    "duration": 2,
    "start_time": "2022-06-24T11:04:12.270Z"
   },
   {
    "duration": 1286,
    "start_time": "2022-06-24T11:04:12.274Z"
   },
   {
    "duration": 8626,
    "start_time": "2022-06-24T11:04:13.561Z"
   },
   {
    "duration": 3,
    "start_time": "2022-06-24T11:04:22.188Z"
   },
   {
    "duration": 2384,
    "start_time": "2022-06-24T11:04:22.192Z"
   },
   {
    "duration": 166256,
    "start_time": "2022-06-24T11:04:24.578Z"
   },
   {
    "duration": 54,
    "start_time": "2022-06-25T15:57:37.558Z"
   },
   {
    "duration": 2410,
    "start_time": "2022-06-25T15:57:48.154Z"
   },
   {
    "duration": 3970,
    "start_time": "2022-06-25T15:57:50.565Z"
   },
   {
    "duration": 18,
    "start_time": "2022-06-25T15:57:54.537Z"
   },
   {
    "duration": 10,
    "start_time": "2022-06-25T15:57:54.557Z"
   },
   {
    "duration": 4,
    "start_time": "2022-06-25T15:57:54.569Z"
   },
   {
    "duration": 8,
    "start_time": "2022-06-25T15:57:54.575Z"
   },
   {
    "duration": 7,
    "start_time": "2022-06-25T15:57:54.585Z"
   },
   {
    "duration": 4,
    "start_time": "2022-06-25T15:57:54.594Z"
   },
   {
    "duration": 8,
    "start_time": "2022-06-25T15:57:54.600Z"
   },
   {
    "duration": 14,
    "start_time": "2022-06-25T15:57:54.609Z"
   },
   {
    "duration": 48,
    "start_time": "2022-06-25T15:57:54.624Z"
   },
   {
    "duration": 13,
    "start_time": "2022-06-25T15:57:54.673Z"
   },
   {
    "duration": 12,
    "start_time": "2022-06-25T15:57:54.687Z"
   },
   {
    "duration": 165,
    "start_time": "2022-06-25T15:57:54.702Z"
   },
   {
    "duration": 536,
    "start_time": "2022-06-25T15:57:54.868Z"
   },
   {
    "duration": 555,
    "start_time": "2022-06-25T15:58:12.169Z"
   },
   {
    "duration": 457,
    "start_time": "2022-06-25T15:58:23.556Z"
   },
   {
    "duration": 1693,
    "start_time": "2022-06-27T13:02:18.872Z"
   },
   {
    "duration": 1294,
    "start_time": "2022-06-27T13:02:20.568Z"
   },
   {
    "duration": 22,
    "start_time": "2022-06-27T13:02:21.864Z"
   },
   {
    "duration": 13,
    "start_time": "2022-06-27T13:02:21.889Z"
   },
   {
    "duration": 6,
    "start_time": "2022-06-27T13:02:21.904Z"
   },
   {
    "duration": 17,
    "start_time": "2022-06-27T13:02:21.912Z"
   },
   {
    "duration": 9,
    "start_time": "2022-06-27T13:02:21.951Z"
   },
   {
    "duration": 5,
    "start_time": "2022-06-27T13:02:21.961Z"
   },
   {
    "duration": 8,
    "start_time": "2022-06-27T13:02:21.968Z"
   },
   {
    "duration": 13,
    "start_time": "2022-06-27T13:02:21.979Z"
   },
   {
    "duration": 23,
    "start_time": "2022-06-27T13:02:21.994Z"
   },
   {
    "duration": 38,
    "start_time": "2022-06-27T13:02:22.019Z"
   },
   {
    "duration": 15,
    "start_time": "2022-06-27T13:02:22.059Z"
   },
   {
    "duration": 212,
    "start_time": "2022-06-27T13:02:22.075Z"
   },
   {
    "duration": 520,
    "start_time": "2022-06-27T13:02:24.916Z"
   },
   {
    "duration": 610,
    "start_time": "2022-06-27T13:02:37.844Z"
   },
   {
    "duration": 1463,
    "start_time": "2022-06-27T13:03:46.455Z"
   },
   {
    "duration": 839,
    "start_time": "2022-06-27T13:03:47.920Z"
   },
   {
    "duration": 22,
    "start_time": "2022-06-27T13:03:48.761Z"
   },
   {
    "duration": 12,
    "start_time": "2022-06-27T13:03:48.785Z"
   },
   {
    "duration": 8,
    "start_time": "2022-06-27T13:03:48.799Z"
   },
   {
    "duration": 10,
    "start_time": "2022-06-27T13:03:48.809Z"
   },
   {
    "duration": 8,
    "start_time": "2022-06-27T13:03:48.852Z"
   },
   {
    "duration": 7,
    "start_time": "2022-06-27T13:03:48.862Z"
   },
   {
    "duration": 9,
    "start_time": "2022-06-27T13:03:48.871Z"
   },
   {
    "duration": 17,
    "start_time": "2022-06-27T13:03:48.883Z"
   },
   {
    "duration": 48,
    "start_time": "2022-06-27T13:03:48.903Z"
   },
   {
    "duration": 9,
    "start_time": "2022-06-27T13:03:48.953Z"
   },
   {
    "duration": 14,
    "start_time": "2022-06-27T13:03:48.964Z"
   },
   {
    "duration": 210,
    "start_time": "2022-06-27T13:03:48.980Z"
   },
   {
    "duration": 616,
    "start_time": "2022-06-27T13:03:49.191Z"
   },
   {
    "duration": 4,
    "start_time": "2022-06-27T13:03:49.808Z"
   },
   {
    "duration": 13,
    "start_time": "2022-06-27T13:03:49.814Z"
   },
   {
    "duration": 2039,
    "start_time": "2022-06-27T13:03:49.829Z"
   },
   {
    "duration": 28,
    "start_time": "2022-06-27T13:03:51.870Z"
   },
   {
    "duration": 17,
    "start_time": "2022-06-27T13:03:51.900Z"
   },
   {
    "duration": 6,
    "start_time": "2022-06-27T13:03:51.919Z"
   },
   {
    "duration": 26,
    "start_time": "2022-06-27T13:03:51.927Z"
   },
   {
    "duration": 25,
    "start_time": "2022-06-27T13:03:51.955Z"
   },
   {
    "duration": 5,
    "start_time": "2022-06-27T13:03:51.982Z"
   },
   {
    "duration": 1160,
    "start_time": "2022-06-27T13:03:51.990Z"
   },
   {
    "duration": 10760,
    "start_time": "2022-06-27T13:03:53.152Z"
   },
   {
    "duration": 513282,
    "start_time": "2022-06-27T13:04:03.914Z"
   },
   {
    "duration": 0,
    "start_time": "2022-06-27T13:12:37.198Z"
   },
   {
    "duration": 0,
    "start_time": "2022-06-27T13:12:37.200Z"
   },
   {
    "duration": 16,
    "start_time": "2022-06-27T13:15:09.015Z"
   },
   {
    "duration": 17,
    "start_time": "2022-06-27T13:16:37.537Z"
   },
   {
    "duration": 7,
    "start_time": "2022-06-27T13:17:03.306Z"
   },
   {
    "duration": 12,
    "start_time": "2022-06-27T13:18:00.948Z"
   },
   {
    "duration": 12,
    "start_time": "2022-06-27T13:18:09.414Z"
   },
   {
    "duration": 10,
    "start_time": "2022-06-27T13:18:58.604Z"
   },
   {
    "duration": 7,
    "start_time": "2022-06-27T13:20:37.892Z"
   },
   {
    "duration": 11,
    "start_time": "2022-06-27T13:20:49.245Z"
   },
   {
    "duration": 7,
    "start_time": "2022-06-27T13:21:53.794Z"
   },
   {
    "duration": 6,
    "start_time": "2022-06-27T13:23:58.878Z"
   },
   {
    "duration": 5,
    "start_time": "2022-06-27T13:24:12.314Z"
   },
   {
    "duration": 846,
    "start_time": "2022-06-27T13:24:12.322Z"
   },
   {
    "duration": 23,
    "start_time": "2022-06-27T13:24:13.170Z"
   },
   {
    "duration": 10,
    "start_time": "2022-06-27T13:24:13.196Z"
   },
   {
    "duration": 7,
    "start_time": "2022-06-27T13:24:13.209Z"
   },
   {
    "duration": 40,
    "start_time": "2022-06-27T13:24:13.218Z"
   },
   {
    "duration": 7,
    "start_time": "2022-06-27T13:24:13.260Z"
   },
   {
    "duration": 6,
    "start_time": "2022-06-27T13:24:16.876Z"
   },
   {
    "duration": 19,
    "start_time": "2022-06-27T13:24:37.371Z"
   },
   {
    "duration": 16,
    "start_time": "2022-06-27T13:24:44.756Z"
   },
   {
    "duration": 216,
    "start_time": "2022-06-27T13:25:00.416Z"
   },
   {
    "duration": 46,
    "start_time": "2022-06-27T13:25:08.164Z"
   },
   {
    "duration": 7,
    "start_time": "2022-06-27T13:25:14.578Z"
   },
   {
    "duration": 7,
    "start_time": "2022-06-27T13:25:25.719Z"
   },
   {
    "duration": 7,
    "start_time": "2022-06-27T13:25:30.944Z"
   },
   {
    "duration": 15,
    "start_time": "2022-06-27T13:26:38.947Z"
   },
   {
    "duration": 9,
    "start_time": "2022-06-27T13:26:49.545Z"
   },
   {
    "duration": 8,
    "start_time": "2022-06-27T13:26:58.857Z"
   },
   {
    "duration": 7,
    "start_time": "2022-06-27T13:27:52.188Z"
   },
   {
    "duration": 419,
    "start_time": "2022-06-27T13:28:05.547Z"
   },
   {
    "duration": 12,
    "start_time": "2022-06-27T13:31:23.542Z"
   },
   {
    "duration": 6,
    "start_time": "2022-06-27T13:32:17.102Z"
   },
   {
    "duration": 9,
    "start_time": "2022-06-27T13:32:21.908Z"
   },
   {
    "duration": 4,
    "start_time": "2022-06-27T13:50:31.721Z"
   },
   {
    "duration": 854,
    "start_time": "2022-06-27T13:50:31.727Z"
   },
   {
    "duration": 19,
    "start_time": "2022-06-27T13:50:32.583Z"
   },
   {
    "duration": 8,
    "start_time": "2022-06-27T13:50:32.604Z"
   },
   {
    "duration": 5,
    "start_time": "2022-06-27T13:50:32.614Z"
   },
   {
    "duration": 31,
    "start_time": "2022-06-27T13:50:32.621Z"
   },
   {
    "duration": 8,
    "start_time": "2022-06-27T13:50:32.654Z"
   },
   {
    "duration": 8,
    "start_time": "2022-06-27T13:50:32.664Z"
   },
   {
    "duration": 14,
    "start_time": "2022-06-27T13:50:32.674Z"
   },
   {
    "duration": 23,
    "start_time": "2022-06-27T13:50:32.689Z"
   },
   {
    "duration": 43,
    "start_time": "2022-06-27T13:50:32.714Z"
   },
   {
    "duration": 14,
    "start_time": "2022-06-27T13:50:32.759Z"
   },
   {
    "duration": 188,
    "start_time": "2022-06-27T13:50:32.775Z"
   },
   {
    "duration": 548,
    "start_time": "2022-06-27T13:50:32.966Z"
   },
   {
    "duration": 4,
    "start_time": "2022-06-27T13:50:33.517Z"
   },
   {
    "duration": 15,
    "start_time": "2022-06-27T13:50:33.523Z"
   },
   {
    "duration": 1832,
    "start_time": "2022-06-27T13:50:33.551Z"
   },
   {
    "duration": 28,
    "start_time": "2022-06-27T13:50:35.385Z"
   },
   {
    "duration": 16,
    "start_time": "2022-06-27T13:50:35.415Z"
   },
   {
    "duration": 5,
    "start_time": "2022-06-27T13:50:35.451Z"
   },
   {
    "duration": 9,
    "start_time": "2022-06-27T13:50:35.458Z"
   },
   {
    "duration": 17,
    "start_time": "2022-06-27T13:50:35.469Z"
   },
   {
    "duration": 14,
    "start_time": "2022-06-27T13:50:35.488Z"
   },
   {
    "duration": 1332,
    "start_time": "2022-06-27T13:50:50.222Z"
   },
   {
    "duration": 5073,
    "start_time": "2022-06-27T13:51:25.647Z"
   },
   {
    "duration": 5114,
    "start_time": "2022-06-27T13:53:42.993Z"
   },
   {
    "duration": 29,
    "start_time": "2022-06-27T14:04:50.656Z"
   },
   {
    "duration": 7814,
    "start_time": "2022-06-27T14:06:44.058Z"
   },
   {
    "duration": 11414,
    "start_time": "2022-06-27T14:06:57.437Z"
   },
   {
    "duration": 5,
    "start_time": "2022-06-27T14:08:18.865Z"
   },
   {
    "duration": 7,
    "start_time": "2022-06-27T14:08:25.087Z"
   },
   {
    "duration": 43016,
    "start_time": "2022-06-27T14:10:50.341Z"
   },
   {
    "duration": 5,
    "start_time": "2022-06-27T14:11:40.103Z"
   },
   {
    "duration": 53790,
    "start_time": "2022-06-27T14:16:30.265Z"
   },
   {
    "duration": 69,
    "start_time": "2022-06-27T14:21:40.622Z"
   },
   {
    "duration": 181581,
    "start_time": "2022-06-27T14:21:45.399Z"
   },
   {
    "duration": 10,
    "start_time": "2022-06-27T14:25:14.474Z"
   },
   {
    "duration": 8,
    "start_time": "2022-06-27T14:25:34.725Z"
   },
   {
    "duration": 9,
    "start_time": "2022-06-27T14:25:37.812Z"
   },
   {
    "duration": 8,
    "start_time": "2022-06-27T14:26:05.720Z"
   },
   {
    "duration": 5,
    "start_time": "2022-06-27T14:27:24.709Z"
   },
   {
    "duration": 12,
    "start_time": "2022-06-27T14:27:39.803Z"
   },
   {
    "duration": 14,
    "start_time": "2022-06-27T14:28:01.605Z"
   },
   {
    "duration": 10709,
    "start_time": "2022-06-27T14:28:48.743Z"
   },
   {
    "duration": 8,
    "start_time": "2022-06-27T14:29:34.125Z"
   },
   {
    "duration": 53,
    "start_time": "2022-06-27T17:21:29.888Z"
   },
   {
    "duration": 1715,
    "start_time": "2022-06-27T17:21:36.093Z"
   },
   {
    "duration": 1344,
    "start_time": "2022-06-27T17:21:37.810Z"
   },
   {
    "duration": 19,
    "start_time": "2022-06-27T17:21:39.156Z"
   },
   {
    "duration": 9,
    "start_time": "2022-06-27T17:21:39.177Z"
   },
   {
    "duration": 4,
    "start_time": "2022-06-27T17:21:39.188Z"
   },
   {
    "duration": 9,
    "start_time": "2022-06-27T17:21:39.194Z"
   },
   {
    "duration": 22,
    "start_time": "2022-06-27T17:21:39.205Z"
   },
   {
    "duration": 7,
    "start_time": "2022-06-27T17:21:39.229Z"
   },
   {
    "duration": 13,
    "start_time": "2022-06-27T17:21:39.238Z"
   },
   {
    "duration": 21,
    "start_time": "2022-06-27T17:21:39.253Z"
   },
   {
    "duration": 9,
    "start_time": "2022-06-27T17:21:39.275Z"
   },
   {
    "duration": 43,
    "start_time": "2022-06-27T17:21:39.285Z"
   },
   {
    "duration": 177,
    "start_time": "2022-06-27T17:21:39.330Z"
   },
   {
    "duration": 496,
    "start_time": "2022-06-27T17:21:39.509Z"
   },
   {
    "duration": 3,
    "start_time": "2022-06-27T17:21:40.007Z"
   },
   {
    "duration": 18,
    "start_time": "2022-06-27T17:21:40.012Z"
   },
   {
    "duration": 1861,
    "start_time": "2022-06-27T17:21:40.032Z"
   },
   {
    "duration": 31,
    "start_time": "2022-06-27T17:21:41.895Z"
   },
   {
    "duration": 14,
    "start_time": "2022-06-27T17:21:41.928Z"
   },
   {
    "duration": 6,
    "start_time": "2022-06-27T17:21:41.944Z"
   },
   {
    "duration": 5,
    "start_time": "2022-06-27T17:21:41.952Z"
   },
   {
    "duration": 21,
    "start_time": "2022-06-27T17:21:41.959Z"
   },
   {
    "duration": 18,
    "start_time": "2022-06-27T17:21:41.981Z"
   },
   {
    "duration": 12167,
    "start_time": "2022-06-27T17:21:45.459Z"
   },
   {
    "duration": 59735,
    "start_time": "2022-06-27T17:22:38.919Z"
   },
   {
    "duration": 75,
    "start_time": "2022-06-27T17:30:44.074Z"
   },
   {
    "duration": 215751,
    "start_time": "2022-06-27T17:30:55.338Z"
   },
   {
    "duration": 476388,
    "start_time": "2022-06-27T17:35:17.745Z"
   },
   {
    "duration": 5,
    "start_time": "2022-06-27T17:46:14.243Z"
   },
   {
    "duration": 87,
    "start_time": "2022-06-27T17:48:13.059Z"
   },
   {
    "duration": 51,
    "start_time": "2022-06-27T17:48:32.561Z"
   },
   {
    "duration": 13476,
    "start_time": "2022-06-27T17:49:21.851Z"
   },
   {
    "duration": 4,
    "start_time": "2022-06-27T17:58:04.311Z"
   },
   {
    "duration": 7,
    "start_time": "2022-06-27T17:58:08.852Z"
   },
   {
    "duration": 7,
    "start_time": "2022-06-27T17:58:48.383Z"
   },
   {
    "duration": 13682,
    "start_time": "2022-06-27T18:01:48.154Z"
   }
  ],
  "kernelspec": {
   "display_name": "Python 3 (ipykernel)",
   "language": "python",
   "name": "python3"
  },
  "language_info": {
   "codemirror_mode": {
    "name": "ipython",
    "version": 3
   },
   "file_extension": ".py",
   "mimetype": "text/x-python",
   "name": "python",
   "nbconvert_exporter": "python",
   "pygments_lexer": "ipython3",
   "version": "3.9.5"
  },
  "toc": {
   "base_numbering": 1,
   "nav_menu": {},
   "number_sections": true,
   "sideBar": true,
   "skip_h1_title": true,
   "title_cell": "Table of Contents",
   "title_sidebar": "Contents",
   "toc_cell": false,
   "toc_position": {},
   "toc_section_display": true,
   "toc_window_display": false
  }
 },
 "nbformat": 4,
 "nbformat_minor": 2
}
